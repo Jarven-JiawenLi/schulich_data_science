{
 "cells": [
  {
   "attachments": {},
   "cell_type": "markdown",
   "metadata": {},
   "source": [
    "#### Hotel Booking"
   ]
  },
  {
   "cell_type": "code",
   "execution_count": 1,
   "metadata": {},
   "outputs": [],
   "source": [
    "import numpy as np\n",
    "import pandas as pd\n",
    "import matplotlib.pyplot as plt\n",
    "import seaborn as sns\n",
    "from sklearn.preprocessing import LabelEncoder, StandardScaler\n",
    "from sklearn.model_selection import train_test_split"
   ]
  },
  {
   "cell_type": "code",
   "execution_count": 2,
   "metadata": {},
   "outputs": [],
   "source": [
    "df = pd.read_csv(\"/Users/jiawenli/Desktop/MBAN_6110T/Project/hotel_booking.csv\")"
   ]
  },
  {
   "cell_type": "code",
   "execution_count": 3,
   "metadata": {},
   "outputs": [
    {
     "name": "stdout",
     "output_type": "stream",
     "text": [
      "<class 'pandas.core.frame.DataFrame'>\n",
      "RangeIndex: 119390 entries, 0 to 119389\n",
      "Data columns (total 36 columns):\n",
      " #   Column                          Non-Null Count   Dtype  \n",
      "---  ------                          --------------   -----  \n",
      " 0   hotel                           119390 non-null  object \n",
      " 1   is_canceled                     119390 non-null  int64  \n",
      " 2   lead_time                       119390 non-null  int64  \n",
      " 3   arrival_date_year               119390 non-null  int64  \n",
      " 4   arrival_date_month              119390 non-null  object \n",
      " 5   arrival_date_week_number        119390 non-null  int64  \n",
      " 6   arrival_date_day_of_month       119390 non-null  int64  \n",
      " 7   stays_in_weekend_nights         119390 non-null  int64  \n",
      " 8   stays_in_week_nights            119390 non-null  int64  \n",
      " 9   adults                          119390 non-null  int64  \n",
      " 10  children                        119386 non-null  float64\n",
      " 11  babies                          119390 non-null  int64  \n",
      " 12  meal                            119390 non-null  object \n",
      " 13  country                         118902 non-null  object \n",
      " 14  market_segment                  119390 non-null  object \n",
      " 15  distribution_channel            119390 non-null  object \n",
      " 16  is_repeated_guest               119390 non-null  int64  \n",
      " 17  previous_cancellations          119390 non-null  int64  \n",
      " 18  previous_bookings_not_canceled  119390 non-null  int64  \n",
      " 19  reserved_room_type              119390 non-null  object \n",
      " 20  assigned_room_type              119390 non-null  object \n",
      " 21  booking_changes                 119390 non-null  int64  \n",
      " 22  deposit_type                    119390 non-null  object \n",
      " 23  agent                           103050 non-null  float64\n",
      " 24  company                         6797 non-null    float64\n",
      " 25  days_in_waiting_list            119390 non-null  int64  \n",
      " 26  customer_type                   119390 non-null  object \n",
      " 27  adr                             119390 non-null  float64\n",
      " 28  required_car_parking_spaces     119390 non-null  int64  \n",
      " 29  total_of_special_requests       119390 non-null  int64  \n",
      " 30  reservation_status              119390 non-null  object \n",
      " 31  reservation_status_date         119390 non-null  object \n",
      " 32  name                            119390 non-null  object \n",
      " 33  email                           119390 non-null  object \n",
      " 34  phone-number                    119390 non-null  object \n",
      " 35  credit_card                     119390 non-null  object \n",
      "dtypes: float64(4), int64(16), object(16)\n",
      "memory usage: 32.8+ MB\n"
     ]
    }
   ],
   "source": [
    "df.info()"
   ]
  },
  {
   "attachments": {},
   "cell_type": "markdown",
   "metadata": {},
   "source": [
    "#### Data Cleaning"
   ]
  },
  {
   "cell_type": "code",
   "execution_count": 4,
   "metadata": {},
   "outputs": [],
   "source": [
    "# Handling missing values in the 'children' column by filling with 0\n",
    "df['children'].fillna(0, inplace=True)"
   ]
  },
  {
   "cell_type": "code",
   "execution_count": 5,
   "metadata": {},
   "outputs": [],
   "source": [
    "# Handling missing values in the 'company' column by creating a new feature 'is_company_present'\n",
    "df['is_company_present'] = df['company'].apply(lambda x: 0 if pd.isnull(x) else 1)\n",
    "#df.drop(columns=['company'], inplace=True)"
   ]
  },
  {
   "cell_type": "code",
   "execution_count": 6,
   "metadata": {},
   "outputs": [],
   "source": [
    "# Handling missing values in the 'country' column by imputing with the most frequent country\n",
    "most_frequent_country = df['country'].mode().iloc[0]\n",
    "df['country'].fillna(most_frequent_country, inplace=True)\n",
    "# df.drop(columns=['country'], inplace=True)"
   ]
  },
  {
   "cell_type": "code",
   "execution_count": 7,
   "metadata": {},
   "outputs": [],
   "source": [
    "# Handling missing values in the 'agent' column by filling with -1\n",
    "df['agent'].fillna(-1, inplace=True)\n",
    "#Ease of Interpretation: Using a specific value like -1 to represent missing data \n",
    "# makes it easy to identify and interpret missing values during the analysis."
   ]
  },
  {
   "cell_type": "code",
   "execution_count": 8,
   "metadata": {},
   "outputs": [
    {
     "name": "stdout",
     "output_type": "stream",
     "text": [
      "<class 'pandas.core.frame.DataFrame'>\n",
      "RangeIndex: 119390 entries, 0 to 119389\n",
      "Data columns (total 37 columns):\n",
      " #   Column                          Non-Null Count   Dtype  \n",
      "---  ------                          --------------   -----  \n",
      " 0   hotel                           119390 non-null  object \n",
      " 1   is_canceled                     119390 non-null  int64  \n",
      " 2   lead_time                       119390 non-null  int64  \n",
      " 3   arrival_date_year               119390 non-null  int64  \n",
      " 4   arrival_date_month              119390 non-null  object \n",
      " 5   arrival_date_week_number        119390 non-null  int64  \n",
      " 6   arrival_date_day_of_month       119390 non-null  int64  \n",
      " 7   stays_in_weekend_nights         119390 non-null  int64  \n",
      " 8   stays_in_week_nights            119390 non-null  int64  \n",
      " 9   adults                          119390 non-null  int64  \n",
      " 10  children                        119390 non-null  float64\n",
      " 11  babies                          119390 non-null  int64  \n",
      " 12  meal                            119390 non-null  object \n",
      " 13  country                         119390 non-null  object \n",
      " 14  market_segment                  119390 non-null  object \n",
      " 15  distribution_channel            119390 non-null  object \n",
      " 16  is_repeated_guest               119390 non-null  int64  \n",
      " 17  previous_cancellations          119390 non-null  int64  \n",
      " 18  previous_bookings_not_canceled  119390 non-null  int64  \n",
      " 19  reserved_room_type              119390 non-null  object \n",
      " 20  assigned_room_type              119390 non-null  object \n",
      " 21  booking_changes                 119390 non-null  int64  \n",
      " 22  deposit_type                    119390 non-null  object \n",
      " 23  agent                           119390 non-null  float64\n",
      " 24  company                         6797 non-null    float64\n",
      " 25  days_in_waiting_list            119390 non-null  int64  \n",
      " 26  customer_type                   119390 non-null  object \n",
      " 27  adr                             119390 non-null  float64\n",
      " 28  required_car_parking_spaces     119390 non-null  int64  \n",
      " 29  total_of_special_requests       119390 non-null  int64  \n",
      " 30  reservation_status              119390 non-null  object \n",
      " 31  reservation_status_date         119390 non-null  object \n",
      " 32  name                            119390 non-null  object \n",
      " 33  email                           119390 non-null  object \n",
      " 34  phone-number                    119390 non-null  object \n",
      " 35  credit_card                     119390 non-null  object \n",
      " 36  is_company_present              119390 non-null  int64  \n",
      "dtypes: float64(4), int64(17), object(16)\n",
      "memory usage: 33.7+ MB\n"
     ]
    }
   ],
   "source": [
    "df.info()"
   ]
  },
  {
   "cell_type": "code",
   "execution_count": 9,
   "metadata": {},
   "outputs": [
    {
     "name": "stdout",
     "output_type": "stream",
     "text": [
      "         is_canceled      lead_time  arrival_date_year  \\\n",
      "count  119390.000000  119390.000000      119390.000000   \n",
      "mean        0.370416     104.011416        2016.156554   \n",
      "std         0.482918     106.863097           0.707476   \n",
      "min         0.000000       0.000000        2015.000000   \n",
      "25%         0.000000      18.000000        2016.000000   \n",
      "50%         0.000000      69.000000        2016.000000   \n",
      "75%         1.000000     160.000000        2017.000000   \n",
      "max         1.000000     737.000000        2017.000000   \n",
      "\n",
      "       arrival_date_week_number  arrival_date_day_of_month  \\\n",
      "count             119390.000000              119390.000000   \n",
      "mean                  27.165173                  15.798241   \n",
      "std                   13.605138                   8.780829   \n",
      "min                    1.000000                   1.000000   \n",
      "25%                   16.000000                   8.000000   \n",
      "50%                   28.000000                  16.000000   \n",
      "75%                   38.000000                  23.000000   \n",
      "max                   53.000000                  31.000000   \n",
      "\n",
      "       stays_in_weekend_nights  stays_in_week_nights         adults  \\\n",
      "count            119390.000000         119390.000000  119390.000000   \n",
      "mean                  0.927599              2.500302       1.856403   \n",
      "std                   0.998613              1.908286       0.579261   \n",
      "min                   0.000000              0.000000       0.000000   \n",
      "25%                   0.000000              1.000000       2.000000   \n",
      "50%                   1.000000              2.000000       2.000000   \n",
      "75%                   2.000000              3.000000       2.000000   \n",
      "max                  19.000000             50.000000      55.000000   \n",
      "\n",
      "            children         babies  ...  previous_cancellations  \\\n",
      "count  119390.000000  119390.000000  ...           119390.000000   \n",
      "mean        0.103886       0.007949  ...                0.087118   \n",
      "std         0.398555       0.097436  ...                0.844336   \n",
      "min         0.000000       0.000000  ...                0.000000   \n",
      "25%         0.000000       0.000000  ...                0.000000   \n",
      "50%         0.000000       0.000000  ...                0.000000   \n",
      "75%         0.000000       0.000000  ...                0.000000   \n",
      "max        10.000000      10.000000  ...               26.000000   \n",
      "\n",
      "       previous_bookings_not_canceled  booking_changes          agent  \\\n",
      "count                   119390.000000    119390.000000  119390.000000   \n",
      "mean                         0.137097         0.221124      74.691457   \n",
      "std                          1.497437         0.652306     107.238047   \n",
      "min                          0.000000         0.000000      -1.000000   \n",
      "25%                          0.000000         0.000000       7.000000   \n",
      "50%                          0.000000         0.000000       9.000000   \n",
      "75%                          0.000000         0.000000     152.000000   \n",
      "max                         72.000000        21.000000     535.000000   \n",
      "\n",
      "           company  days_in_waiting_list            adr  \\\n",
      "count  6797.000000         119390.000000  119390.000000   \n",
      "mean    189.266735              2.321149     101.831122   \n",
      "std     131.655015             17.594721      50.535790   \n",
      "min       6.000000              0.000000      -6.380000   \n",
      "25%      62.000000              0.000000      69.290000   \n",
      "50%     179.000000              0.000000      94.575000   \n",
      "75%     270.000000              0.000000     126.000000   \n",
      "max     543.000000            391.000000    5400.000000   \n",
      "\n",
      "       required_car_parking_spaces  total_of_special_requests  \\\n",
      "count                119390.000000              119390.000000   \n",
      "mean                      0.062518                   0.571363   \n",
      "std                       0.245291                   0.792798   \n",
      "min                       0.000000                   0.000000   \n",
      "25%                       0.000000                   0.000000   \n",
      "50%                       0.000000                   0.000000   \n",
      "75%                       0.000000                   1.000000   \n",
      "max                       8.000000                   5.000000   \n",
      "\n",
      "       is_company_present  \n",
      "count       119390.000000  \n",
      "mean             0.056931  \n",
      "std              0.231712  \n",
      "min              0.000000  \n",
      "25%              0.000000  \n",
      "50%              0.000000  \n",
      "75%              0.000000  \n",
      "max              1.000000  \n",
      "\n",
      "[8 rows x 21 columns]\n"
     ]
    }
   ],
   "source": [
    "# Descriptive Statistics\n",
    "print(df.describe())"
   ]
  },
  {
   "attachments": {},
   "cell_type": "markdown",
   "metadata": {},
   "source": [
    "#### Data Visualization"
   ]
  },
  {
   "cell_type": "code",
   "execution_count": 10,
   "metadata": {},
   "outputs": [
    {
     "data": {
      "image/png": "[encoded data removed]",
      "text/plain": [
       "<Figure size 900x700 with 1 Axes>"
      ]
     },
     "metadata": {},
     "output_type": "display_data"
    }
   ],
   "source": [
    "# Plot the distribution of 'is_canceled'\n",
    "plt.figure(figsize=(9, 7))\n",
    "sns.countplot(x='is_canceled', data=df)\n",
    "plt.title('Cancellation Distribution')\n",
    "plt.xlabel('Cancellation Status')\n",
    "plt.ylabel('Count')\n",
    "plt.show()"
   ]
  },
  {
   "cell_type": "code",
   "execution_count": 11,
   "metadata": {},
   "outputs": [
    {
     "data": {
      "image/png": "[encoded data removed]",
      "text/plain": [
       "<Figure size 640x480 with 1 Axes>"
      ]
     },
     "metadata": {},
     "output_type": "display_data"
    }
   ],
   "source": [
    "hist_plot = sns.histplot(df['hotel'])\n",
    "hist_plot.tick_params(axis = 'x', labelsize = 8)"
   ]
  },
  {
   "cell_type": "code",
   "execution_count": 12,
   "metadata": {},
   "outputs": [
    {
     "name": "stdout",
     "output_type": "stream",
     "text": [
      "10 countries with the most bookings:\n",
      "PRT    49078\n",
      "GBR    12129\n",
      "FRA    10415\n",
      "ESP     8568\n",
      "DEU     7287\n",
      "ITA     3766\n",
      "IRL     3375\n",
      "BEL     2342\n",
      "BRA     2224\n",
      "NLD     2104\n",
      "Name: country, dtype: int64\n"
     ]
    }
   ],
   "source": [
    "# Find the top 10 countries with the highest hotel booking\n",
    "most_countries = df['country'].value_counts().nlargest(10)\n",
    "print(\"10 countries with the most bookings:\")\n",
    "print(most_countries)"
   ]
  },
  {
   "cell_type": "code",
   "execution_count": 13,
   "metadata": {},
   "outputs": [
    {
     "name": "stdout",
     "output_type": "stream",
     "text": [
      "10 countries with the least bookings:\n",
      "KIR    1\n",
      "SDN    1\n",
      "NCL    1\n",
      "AIA    1\n",
      "ASM    1\n",
      "FJI    1\n",
      "ATF    1\n",
      "LCA    1\n",
      "GUY    1\n",
      "PYF    1\n",
      "Name: country, dtype: int64\n"
     ]
    }
   ],
   "source": [
    "# Find the top 10 countries with the lowest hotel booking\n",
    "least_countries = df['country'].value_counts().nsmallest(10)\n",
    "print(\"10 countries with the least bookings:\")\n",
    "print(least_countries)"
   ]
  },
  {
   "attachments": {},
   "cell_type": "markdown",
   "metadata": {},
   "source": [
    "#### Feature Engineering"
   ]
  },
  {
   "cell_type": "code",
   "execution_count": 14,
   "metadata": {},
   "outputs": [],
   "source": [
    "# Encoding Categorical Variables\n",
    "categorical_cols = ['hotel', 'arrival_date_month', 'meal', 'country', 'market_segment',\n",
    "                    'distribution_channel', 'reserved_room_type', 'assigned_room_type',\n",
    "                    'deposit_type', 'customer_type', 'reservation_status']\n",
    "\n",
    "label_encoder = LabelEncoder()\n",
    "for col in categorical_cols:\n",
    "    df[col] = label_encoder.fit_transform(df[col])"
   ]
  },
  {
   "cell_type": "code",
   "execution_count": 15,
   "metadata": {},
   "outputs": [],
   "source": [
    "# Date Features\n",
    "df['reservation_status_date'] = pd.to_datetime(df['reservation_status_date'])\n",
    "df['year'] = df['reservation_status_date'].dt.year\n",
    "df['month'] = df['reservation_status_date'].dt.month\n",
    "df['day'] = df['reservation_status_date'].dt.day"
   ]
  },
  {
   "cell_type": "code",
   "execution_count": 16,
   "metadata": {},
   "outputs": [],
   "source": [
    "# Feature Scaling\n",
    "scaler = StandardScaler()\n",
    "numerical_cols = ['lead_time', 'arrival_date_year', 'arrival_date_week_number', 'arrival_date_day_of_month',\n",
    "                  'stays_in_weekend_nights', 'stays_in_week_nights', 'adults', 'children', 'babies', 'is_repeated_guest',\n",
    "                  'previous_cancellations', 'previous_bookings_not_canceled', 'booking_changes', 'agent', 'company',\n",
    "                  'days_in_waiting_list', 'adr', 'required_car_parking_spaces', 'total_of_special_requests', 'year', 'month', 'day']\n",
    "\n",
    "df[numerical_cols] = scaler.fit_transform(df[numerical_cols])"
   ]
  },
  {
   "cell_type": "code",
   "execution_count": 17,
   "metadata": {},
   "outputs": [],
   "source": [
    "# Split data into features and target\n",
    "categorical_features = ['arrival_date_month', 'meal', 'country', 'distribution_channel', 'deposit_type', 'customer_type']\n",
    "numerical_features = ['arrival_date_year', 'arrival_date_week_number', 'adults', 'children', 'babies', 'days_in_waiting_list', 'adr', 'total_of_special_requests']\n",
    "target = 'is_canceled'"
   ]
  },
  {
   "cell_type": "code",
   "execution_count": 18,
   "metadata": {},
   "outputs": [],
   "source": [
    "# Split data into training and testing sets\n",
    "X_train, X_test, y_train, y_test = train_test_split(df[categorical_features + numerical_features], df[target],\n",
    "                                                    test_size = 0.3, random_state = 1234)"
   ]
  },
  {
   "cell_type": "code",
   "execution_count": 19,
   "metadata": {},
   "outputs": [
    {
     "data": {
      "text/html": [
       "<div>\n",
       "<style scoped>\n",
       "    .dataframe tbody tr th:only-of-type {\n",
       "        vertical-align: middle;\n",
       "    }\n",
       "\n",
       "    .dataframe tbody tr th {\n",
       "        vertical-align: top;\n",
       "    }\n",
       "\n",
       "    .dataframe thead th {\n",
       "        text-align: right;\n",
       "    }\n",
       "</style>\n",
       "<table border=\"1\" class=\"dataframe\">\n",
       "  <thead>\n",
       "    <tr style=\"text-align: right;\">\n",
       "      <th></th>\n",
       "      <th>arrival_date_month</th>\n",
       "      <th>meal</th>\n",
       "      <th>country</th>\n",
       "      <th>distribution_channel</th>\n",
       "      <th>deposit_type</th>\n",
       "      <th>customer_type</th>\n",
       "      <th>arrival_date_year</th>\n",
       "      <th>arrival_date_week_number</th>\n",
       "      <th>adults</th>\n",
       "      <th>children</th>\n",
       "      <th>babies</th>\n",
       "      <th>days_in_waiting_list</th>\n",
       "      <th>adr</th>\n",
       "      <th>total_of_special_requests</th>\n",
       "    </tr>\n",
       "  </thead>\n",
       "  <tbody>\n",
       "    <tr>\n",
       "      <th>73639</th>\n",
       "      <td>1</td>\n",
       "      <td>3</td>\n",
       "      <td>85</td>\n",
       "      <td>3</td>\n",
       "      <td>0</td>\n",
       "      <td>2</td>\n",
       "      <td>1.192195</td>\n",
       "      <td>0.575875</td>\n",
       "      <td>0.247897</td>\n",
       "      <td>-0.260659</td>\n",
       "      <td>-0.081579</td>\n",
       "      <td>-0.131924</td>\n",
       "      <td>-0.056022</td>\n",
       "      <td>1.802026</td>\n",
       "    </tr>\n",
       "    <tr>\n",
       "      <th>83055</th>\n",
       "      <td>4</td>\n",
       "      <td>0</td>\n",
       "      <td>135</td>\n",
       "      <td>3</td>\n",
       "      <td>0</td>\n",
       "      <td>3</td>\n",
       "      <td>-0.221286</td>\n",
       "      <td>-1.776187</td>\n",
       "      <td>0.247897</td>\n",
       "      <td>-0.260659</td>\n",
       "      <td>-0.081579</td>\n",
       "      <td>2.312002</td>\n",
       "      <td>-0.986060</td>\n",
       "      <td>0.540666</td>\n",
       "    </tr>\n",
       "    <tr>\n",
       "      <th>276</th>\n",
       "      <td>5</td>\n",
       "      <td>0</td>\n",
       "      <td>59</td>\n",
       "      <td>3</td>\n",
       "      <td>0</td>\n",
       "      <td>2</td>\n",
       "      <td>-1.634768</td>\n",
       "      <td>0.061361</td>\n",
       "      <td>0.247897</td>\n",
       "      <td>-0.260659</td>\n",
       "      <td>10.181591</td>\n",
       "      <td>-0.131924</td>\n",
       "      <td>0.173519</td>\n",
       "      <td>-0.720694</td>\n",
       "    </tr>\n",
       "    <tr>\n",
       "      <th>2665</th>\n",
       "      <td>10</td>\n",
       "      <td>0</td>\n",
       "      <td>135</td>\n",
       "      <td>3</td>\n",
       "      <td>0</td>\n",
       "      <td>2</td>\n",
       "      <td>-1.634768</td>\n",
       "      <td>1.163891</td>\n",
       "      <td>0.247897</td>\n",
       "      <td>-0.260659</td>\n",
       "      <td>-0.081579</td>\n",
       "      <td>-0.131924</td>\n",
       "      <td>-0.709028</td>\n",
       "      <td>0.540666</td>\n",
       "    </tr>\n",
       "    <tr>\n",
       "      <th>105646</th>\n",
       "      <td>3</td>\n",
       "      <td>0</td>\n",
       "      <td>56</td>\n",
       "      <td>3</td>\n",
       "      <td>0</td>\n",
       "      <td>2</td>\n",
       "      <td>1.192195</td>\n",
       "      <td>-1.555681</td>\n",
       "      <td>0.247897</td>\n",
       "      <td>-0.260659</td>\n",
       "      <td>-0.081579</td>\n",
       "      <td>-0.131924</td>\n",
       "      <td>-0.147839</td>\n",
       "      <td>-0.720694</td>\n",
       "    </tr>\n",
       "    <tr>\n",
       "      <th>...</th>\n",
       "      <td>...</td>\n",
       "      <td>...</td>\n",
       "      <td>...</td>\n",
       "      <td>...</td>\n",
       "      <td>...</td>\n",
       "      <td>...</td>\n",
       "      <td>...</td>\n",
       "      <td>...</td>\n",
       "      <td>...</td>\n",
       "      <td>...</td>\n",
       "      <td>...</td>\n",
       "      <td>...</td>\n",
       "      <td>...</td>\n",
       "      <td>...</td>\n",
       "    </tr>\n",
       "    <tr>\n",
       "      <th>89460</th>\n",
       "      <td>8</td>\n",
       "      <td>0</td>\n",
       "      <td>56</td>\n",
       "      <td>3</td>\n",
       "      <td>0</td>\n",
       "      <td>3</td>\n",
       "      <td>-0.221286</td>\n",
       "      <td>-0.453152</td>\n",
       "      <td>0.247897</td>\n",
       "      <td>-0.260659</td>\n",
       "      <td>-0.081579</td>\n",
       "      <td>-0.131924</td>\n",
       "      <td>-0.728816</td>\n",
       "      <td>-0.720694</td>\n",
       "    </tr>\n",
       "    <tr>\n",
       "      <th>60620</th>\n",
       "      <td>9</td>\n",
       "      <td>0</td>\n",
       "      <td>135</td>\n",
       "      <td>3</td>\n",
       "      <td>1</td>\n",
       "      <td>2</td>\n",
       "      <td>-0.221286</td>\n",
       "      <td>1.457898</td>\n",
       "      <td>0.247897</td>\n",
       "      <td>-0.260659</td>\n",
       "      <td>-0.081579</td>\n",
       "      <td>-0.131924</td>\n",
       "      <td>-0.772349</td>\n",
       "      <td>-0.720694</td>\n",
       "    </tr>\n",
       "    <tr>\n",
       "      <th>34086</th>\n",
       "      <td>7</td>\n",
       "      <td>0</td>\n",
       "      <td>123</td>\n",
       "      <td>3</td>\n",
       "      <td>0</td>\n",
       "      <td>2</td>\n",
       "      <td>1.192195</td>\n",
       "      <td>-1.261674</td>\n",
       "      <td>0.247897</td>\n",
       "      <td>-0.260659</td>\n",
       "      <td>-0.081579</td>\n",
       "      <td>-0.131924</td>\n",
       "      <td>-0.699134</td>\n",
       "      <td>0.540666</td>\n",
       "    </tr>\n",
       "    <tr>\n",
       "      <th>58067</th>\n",
       "      <td>10</td>\n",
       "      <td>0</td>\n",
       "      <td>135</td>\n",
       "      <td>3</td>\n",
       "      <td>1</td>\n",
       "      <td>2</td>\n",
       "      <td>-0.221286</td>\n",
       "      <td>1.016887</td>\n",
       "      <td>0.247897</td>\n",
       "      <td>-0.260659</td>\n",
       "      <td>-0.081579</td>\n",
       "      <td>-0.131924</td>\n",
       "      <td>-0.234115</td>\n",
       "      <td>-0.720694</td>\n",
       "    </tr>\n",
       "    <tr>\n",
       "      <th>92975</th>\n",
       "      <td>5</td>\n",
       "      <td>0</td>\n",
       "      <td>135</td>\n",
       "      <td>3</td>\n",
       "      <td>0</td>\n",
       "      <td>2</td>\n",
       "      <td>-0.221286</td>\n",
       "      <td>0.134863</td>\n",
       "      <td>1.974242</td>\n",
       "      <td>-0.260659</td>\n",
       "      <td>-0.081579</td>\n",
       "      <td>-0.131924</td>\n",
       "      <td>0.754298</td>\n",
       "      <td>1.802026</td>\n",
       "    </tr>\n",
       "  </tbody>\n",
       "</table>\n",
       "<p>83573 rows × 14 columns</p>\n",
       "</div>"
      ],
      "text/plain": [
       "        arrival_date_month  meal  country  distribution_channel  deposit_type  \\\n",
       "73639                    1     3       85                     3             0   \n",
       "83055                    4     0      135                     3             0   \n",
       "276                      5     0       59                     3             0   \n",
       "2665                    10     0      135                     3             0   \n",
       "105646                   3     0       56                     3             0   \n",
       "...                    ...   ...      ...                   ...           ...   \n",
       "89460                    8     0       56                     3             0   \n",
       "60620                    9     0      135                     3             1   \n",
       "34086                    7     0      123                     3             0   \n",
       "58067                   10     0      135                     3             1   \n",
       "92975                    5     0      135                     3             0   \n",
       "\n",
       "        customer_type  arrival_date_year  arrival_date_week_number    adults  \\\n",
       "73639               2           1.192195                  0.575875  0.247897   \n",
       "83055               3          -0.221286                 -1.776187  0.247897   \n",
       "276                 2          -1.634768                  0.061361  0.247897   \n",
       "2665                2          -1.634768                  1.163891  0.247897   \n",
       "105646              2           1.192195                 -1.555681  0.247897   \n",
       "...               ...                ...                       ...       ...   \n",
       "89460               3          -0.221286                 -0.453152  0.247897   \n",
       "60620               2          -0.221286                  1.457898  0.247897   \n",
       "34086               2           1.192195                 -1.261674  0.247897   \n",
       "58067               2          -0.221286                  1.016887  0.247897   \n",
       "92975               2          -0.221286                  0.134863  1.974242   \n",
       "\n",
       "        children     babies  days_in_waiting_list       adr  \\\n",
       "73639  -0.260659  -0.081579             -0.131924 -0.056022   \n",
       "83055  -0.260659  -0.081579              2.312002 -0.986060   \n",
       "276    -0.260659  10.181591             -0.131924  0.173519   \n",
       "2665   -0.260659  -0.081579             -0.131924 -0.709028   \n",
       "105646 -0.260659  -0.081579             -0.131924 -0.147839   \n",
       "...          ...        ...                   ...       ...   \n",
       "89460  -0.260659  -0.081579             -0.131924 -0.728816   \n",
       "60620  -0.260659  -0.081579             -0.131924 -0.772349   \n",
       "34086  -0.260659  -0.081579             -0.131924 -0.699134   \n",
       "58067  -0.260659  -0.081579             -0.131924 -0.234115   \n",
       "92975  -0.260659  -0.081579             -0.131924  0.754298   \n",
       "\n",
       "        total_of_special_requests  \n",
       "73639                    1.802026  \n",
       "83055                    0.540666  \n",
       "276                     -0.720694  \n",
       "2665                     0.540666  \n",
       "105646                  -0.720694  \n",
       "...                           ...  \n",
       "89460                   -0.720694  \n",
       "60620                   -0.720694  \n",
       "34086                    0.540666  \n",
       "58067                   -0.720694  \n",
       "92975                    1.802026  \n",
       "\n",
       "[83573 rows x 14 columns]"
      ]
     },
     "execution_count": 19,
     "metadata": {},
     "output_type": "execute_result"
    }
   ],
   "source": [
    "X_train"
   ]
  },
  {
   "cell_type": "code",
   "execution_count": 20,
   "metadata": {},
   "outputs": [
    {
     "data": {
      "text/html": [
       "<div>\n",
       "<style scoped>\n",
       "    .dataframe tbody tr th:only-of-type {\n",
       "        vertical-align: middle;\n",
       "    }\n",
       "\n",
       "    .dataframe tbody tr th {\n",
       "        vertical-align: top;\n",
       "    }\n",
       "\n",
       "    .dataframe thead th {\n",
       "        text-align: right;\n",
       "    }\n",
       "</style>\n",
       "<table border=\"1\" class=\"dataframe\">\n",
       "  <thead>\n",
       "    <tr style=\"text-align: right;\">\n",
       "      <th></th>\n",
       "      <th>arrival_date_month</th>\n",
       "      <th>meal</th>\n",
       "      <th>country</th>\n",
       "      <th>distribution_channel</th>\n",
       "      <th>deposit_type</th>\n",
       "      <th>customer_type</th>\n",
       "      <th>arrival_date_year</th>\n",
       "      <th>arrival_date_week_number</th>\n",
       "      <th>adults</th>\n",
       "      <th>children</th>\n",
       "      <th>babies</th>\n",
       "      <th>days_in_waiting_list</th>\n",
       "      <th>adr</th>\n",
       "      <th>total_of_special_requests</th>\n",
       "    </tr>\n",
       "  </thead>\n",
       "  <tbody>\n",
       "    <tr>\n",
       "      <th>107255</th>\n",
       "      <td>7</td>\n",
       "      <td>0</td>\n",
       "      <td>59</td>\n",
       "      <td>3</td>\n",
       "      <td>0</td>\n",
       "      <td>2</td>\n",
       "      <td>1.192195</td>\n",
       "      <td>-1.261674</td>\n",
       "      <td>0.247897</td>\n",
       "      <td>-0.260659</td>\n",
       "      <td>-0.081579</td>\n",
       "      <td>-0.131924</td>\n",
       "      <td>-0.030298</td>\n",
       "      <td>4.324746</td>\n",
       "    </tr>\n",
       "    <tr>\n",
       "      <th>110092</th>\n",
       "      <td>0</td>\n",
       "      <td>0</td>\n",
       "      <td>59</td>\n",
       "      <td>3</td>\n",
       "      <td>0</td>\n",
       "      <td>2</td>\n",
       "      <td>1.192195</td>\n",
       "      <td>-0.820662</td>\n",
       "      <td>0.247897</td>\n",
       "      <td>-0.260659</td>\n",
       "      <td>-0.081579</td>\n",
       "      <td>-0.131924</td>\n",
       "      <td>-0.287147</td>\n",
       "      <td>0.540666</td>\n",
       "    </tr>\n",
       "    <tr>\n",
       "      <th>110457</th>\n",
       "      <td>0</td>\n",
       "      <td>0</td>\n",
       "      <td>135</td>\n",
       "      <td>0</td>\n",
       "      <td>0</td>\n",
       "      <td>2</td>\n",
       "      <td>1.192195</td>\n",
       "      <td>-0.747160</td>\n",
       "      <td>-1.478447</td>\n",
       "      <td>-0.260659</td>\n",
       "      <td>-0.081579</td>\n",
       "      <td>-0.131924</td>\n",
       "      <td>-0.709028</td>\n",
       "      <td>-0.720694</td>\n",
       "    </tr>\n",
       "    <tr>\n",
       "      <th>13366</th>\n",
       "      <td>1</td>\n",
       "      <td>0</td>\n",
       "      <td>135</td>\n",
       "      <td>3</td>\n",
       "      <td>0</td>\n",
       "      <td>2</td>\n",
       "      <td>1.192195</td>\n",
       "      <td>0.355369</td>\n",
       "      <td>1.974242</td>\n",
       "      <td>2.248414</td>\n",
       "      <td>-0.081579</td>\n",
       "      <td>-0.131924</td>\n",
       "      <td>4.712895</td>\n",
       "      <td>-0.720694</td>\n",
       "    </tr>\n",
       "    <tr>\n",
       "      <th>36222</th>\n",
       "      <td>8</td>\n",
       "      <td>0</td>\n",
       "      <td>25</td>\n",
       "      <td>3</td>\n",
       "      <td>0</td>\n",
       "      <td>2</td>\n",
       "      <td>1.192195</td>\n",
       "      <td>-0.600156</td>\n",
       "      <td>0.247897</td>\n",
       "      <td>-0.260659</td>\n",
       "      <td>-0.081579</td>\n",
       "      <td>-0.131924</td>\n",
       "      <td>0.526538</td>\n",
       "      <td>0.540666</td>\n",
       "    </tr>\n",
       "    <tr>\n",
       "      <th>...</th>\n",
       "      <td>...</td>\n",
       "      <td>...</td>\n",
       "      <td>...</td>\n",
       "      <td>...</td>\n",
       "      <td>...</td>\n",
       "      <td>...</td>\n",
       "      <td>...</td>\n",
       "      <td>...</td>\n",
       "      <td>...</td>\n",
       "      <td>...</td>\n",
       "      <td>...</td>\n",
       "      <td>...</td>\n",
       "      <td>...</td>\n",
       "      <td>...</td>\n",
       "    </tr>\n",
       "    <tr>\n",
       "      <th>72092</th>\n",
       "      <td>5</td>\n",
       "      <td>0</td>\n",
       "      <td>15</td>\n",
       "      <td>3</td>\n",
       "      <td>0</td>\n",
       "      <td>2</td>\n",
       "      <td>1.192195</td>\n",
       "      <td>0.134863</td>\n",
       "      <td>1.974242</td>\n",
       "      <td>-0.260659</td>\n",
       "      <td>-0.081579</td>\n",
       "      <td>-0.131924</td>\n",
       "      <td>0.412954</td>\n",
       "      <td>-0.720694</td>\n",
       "    </tr>\n",
       "    <tr>\n",
       "      <th>60284</th>\n",
       "      <td>9</td>\n",
       "      <td>0</td>\n",
       "      <td>135</td>\n",
       "      <td>3</td>\n",
       "      <td>1</td>\n",
       "      <td>2</td>\n",
       "      <td>-0.221286</td>\n",
       "      <td>1.384396</td>\n",
       "      <td>0.247897</td>\n",
       "      <td>-0.260659</td>\n",
       "      <td>-0.081579</td>\n",
       "      <td>-0.131924</td>\n",
       "      <td>-0.036234</td>\n",
       "      <td>-0.720694</td>\n",
       "    </tr>\n",
       "    <tr>\n",
       "      <th>16962</th>\n",
       "      <td>11</td>\n",
       "      <td>2</td>\n",
       "      <td>56</td>\n",
       "      <td>3</td>\n",
       "      <td>0</td>\n",
       "      <td>3</td>\n",
       "      <td>-1.634768</td>\n",
       "      <td>0.796381</td>\n",
       "      <td>0.247897</td>\n",
       "      <td>-0.260659</td>\n",
       "      <td>-0.081579</td>\n",
       "      <td>-0.131924</td>\n",
       "      <td>-0.465635</td>\n",
       "      <td>0.540666</td>\n",
       "    </tr>\n",
       "    <tr>\n",
       "      <th>16916</th>\n",
       "      <td>11</td>\n",
       "      <td>0</td>\n",
       "      <td>59</td>\n",
       "      <td>3</td>\n",
       "      <td>0</td>\n",
       "      <td>2</td>\n",
       "      <td>-1.634768</td>\n",
       "      <td>0.722879</td>\n",
       "      <td>0.247897</td>\n",
       "      <td>-0.260659</td>\n",
       "      <td>-0.081579</td>\n",
       "      <td>-0.131924</td>\n",
       "      <td>-0.929862</td>\n",
       "      <td>-0.720694</td>\n",
       "    </tr>\n",
       "    <tr>\n",
       "      <th>33758</th>\n",
       "      <td>3</td>\n",
       "      <td>0</td>\n",
       "      <td>43</td>\n",
       "      <td>1</td>\n",
       "      <td>0</td>\n",
       "      <td>2</td>\n",
       "      <td>1.192195</td>\n",
       "      <td>-1.335176</td>\n",
       "      <td>0.247897</td>\n",
       "      <td>-0.260659</td>\n",
       "      <td>-0.081579</td>\n",
       "      <td>-0.131924</td>\n",
       "      <td>-1.263093</td>\n",
       "      <td>-0.720694</td>\n",
       "    </tr>\n",
       "  </tbody>\n",
       "</table>\n",
       "<p>35817 rows × 14 columns</p>\n",
       "</div>"
      ],
      "text/plain": [
       "        arrival_date_month  meal  country  distribution_channel  deposit_type  \\\n",
       "107255                   7     0       59                     3             0   \n",
       "110092                   0     0       59                     3             0   \n",
       "110457                   0     0      135                     0             0   \n",
       "13366                    1     0      135                     3             0   \n",
       "36222                    8     0       25                     3             0   \n",
       "...                    ...   ...      ...                   ...           ...   \n",
       "72092                    5     0       15                     3             0   \n",
       "60284                    9     0      135                     3             1   \n",
       "16962                   11     2       56                     3             0   \n",
       "16916                   11     0       59                     3             0   \n",
       "33758                    3     0       43                     1             0   \n",
       "\n",
       "        customer_type  arrival_date_year  arrival_date_week_number    adults  \\\n",
       "107255              2           1.192195                 -1.261674  0.247897   \n",
       "110092              2           1.192195                 -0.820662  0.247897   \n",
       "110457              2           1.192195                 -0.747160 -1.478447   \n",
       "13366               2           1.192195                  0.355369  1.974242   \n",
       "36222               2           1.192195                 -0.600156  0.247897   \n",
       "...               ...                ...                       ...       ...   \n",
       "72092               2           1.192195                  0.134863  1.974242   \n",
       "60284               2          -0.221286                  1.384396  0.247897   \n",
       "16962               3          -1.634768                  0.796381  0.247897   \n",
       "16916               2          -1.634768                  0.722879  0.247897   \n",
       "33758               2           1.192195                 -1.335176  0.247897   \n",
       "\n",
       "        children    babies  days_in_waiting_list       adr  \\\n",
       "107255 -0.260659 -0.081579             -0.131924 -0.030298   \n",
       "110092 -0.260659 -0.081579             -0.131924 -0.287147   \n",
       "110457 -0.260659 -0.081579             -0.131924 -0.709028   \n",
       "13366   2.248414 -0.081579             -0.131924  4.712895   \n",
       "36222  -0.260659 -0.081579             -0.131924  0.526538   \n",
       "...          ...       ...                   ...       ...   \n",
       "72092  -0.260659 -0.081579             -0.131924  0.412954   \n",
       "60284  -0.260659 -0.081579             -0.131924 -0.036234   \n",
       "16962  -0.260659 -0.081579             -0.131924 -0.465635   \n",
       "16916  -0.260659 -0.081579             -0.131924 -0.929862   \n",
       "33758  -0.260659 -0.081579             -0.131924 -1.263093   \n",
       "\n",
       "        total_of_special_requests  \n",
       "107255                   4.324746  \n",
       "110092                   0.540666  \n",
       "110457                  -0.720694  \n",
       "13366                   -0.720694  \n",
       "36222                    0.540666  \n",
       "...                           ...  \n",
       "72092                   -0.720694  \n",
       "60284                   -0.720694  \n",
       "16962                    0.540666  \n",
       "16916                   -0.720694  \n",
       "33758                   -0.720694  \n",
       "\n",
       "[35817 rows x 14 columns]"
      ]
     },
     "execution_count": 20,
     "metadata": {},
     "output_type": "execute_result"
    }
   ],
   "source": [
    "X_test"
   ]
  },
  {
   "cell_type": "code",
   "execution_count": 21,
   "metadata": {},
   "outputs": [
    {
     "data": {
      "text/plain": [
       "73639     1\n",
       "83055     0\n",
       "276       0\n",
       "2665      0\n",
       "105646    0\n",
       "         ..\n",
       "89460     0\n",
       "60620     1\n",
       "34086     0\n",
       "58067     1\n",
       "92975     0\n",
       "Name: is_canceled, Length: 83573, dtype: int64"
      ]
     },
     "execution_count": 21,
     "metadata": {},
     "output_type": "execute_result"
    }
   ],
   "source": [
    "y_train"
   ]
  },
  {
   "cell_type": "code",
   "execution_count": 22,
   "metadata": {},
   "outputs": [
    {
     "data": {
      "text/plain": [
       "107255    0\n",
       "110092    0\n",
       "110457    0\n",
       "13366     1\n",
       "36222     0\n",
       "         ..\n",
       "72092     1\n",
       "60284     1\n",
       "16962     0\n",
       "16916     0\n",
       "33758     0\n",
       "Name: is_canceled, Length: 35817, dtype: int64"
      ]
     },
     "execution_count": 22,
     "metadata": {},
     "output_type": "execute_result"
    }
   ],
   "source": [
    "y_test"
   ]
  },
  {
   "cell_type": "markdown",
   "metadata": {},
   "source": [
    "#### Model Development"
   ]
  },
  {
   "cell_type": "markdown",
   "metadata": {},
   "source": [
    "##### Predicting hotel booking cancellations is a classification problem because the predicted outcome is binary: canceled or not canceled. Therefore, we need to use classification algorithms while building the model."
   ]
  },
  {
   "cell_type": "markdown",
   "metadata": {},
   "source": [
    "##### We will implement the following three models:\n",
    "\n",
    "1. Logistic Regression: Logistic regression is a commonly used binary classification algorithm. It can predict the probability of an event by using a logistic function\n",
    "\n",
    "2. Decision Trees: Decision Trees predict the class of outcomes by creating a tree of decision rules.\n",
    "\n",
    "3. Support Vector Machines (SVMs): SVMs are an effective binary classification algorithm that is particularly suited to small to medium sized complex datasets, and therefore well suited to our dataset."
   ]
  },
  {
   "cell_type": "markdown",
   "metadata": {},
   "source": [
    "##### 1. Logistic Regression"
   ]
  },
  {
   "cell_type": "code",
   "execution_count": 23,
   "metadata": {},
   "outputs": [],
   "source": [
    "# Build a Logistic Regression Model to study the relationship between the features and the target variable\n",
    "from sklearn.linear_model import LogisticRegression\n",
    "from sklearn.metrics import accuracy_score, confusion_matrix, classification_report"
   ]
  },
  {
   "cell_type": "code",
   "execution_count": 24,
   "metadata": {},
   "outputs": [],
   "source": [
    "# Create a Logistic Regression object\n",
    "log_reg = LogisticRegression()"
   ]
  },
  {
   "cell_type": "code",
   "execution_count": 25,
   "metadata": {},
   "outputs": [
    {
     "name": "stderr",
     "output_type": "stream",
     "text": [
      "/Users/jiawenli/anaconda3/lib/python3.10/site-packages/sklearn/linear_model/_logistic.py:458: ConvergenceWarning: lbfgs failed to converge (status=1):\n",
      "STOP: TOTAL NO. of ITERATIONS REACHED LIMIT.\n",
      "\n",
      "Increase the number of iterations (max_iter) or scale the data as shown in:\n",
      "    https://scikit-learn.org/stable/modules/preprocessing.html\n",
      "Please also refer to the documentation for alternative solver options:\n",
      "    https://scikit-learn.org/stable/modules/linear_model.html#logistic-regression\n",
      "  n_iter_i = _check_optimize_result(\n"
     ]
    },
    {
     "data": {
      "text/html": [
       "<style>#sk-container-id-1 {color: black;background-color: white;}#sk-container-id-1 pre{padding: 0;}#sk-container-id-1 div.sk-toggleable {background-color: white;}#sk-container-id-1 label.sk-toggleable__label {cursor: pointer;display: block;width: 100%;margin-bottom: 0;padding: 0.3em;box-sizing: border-box;text-align: center;}#sk-container-id-1 label.sk-toggleable__label-arrow:before {content: \"▸\";float: left;margin-right: 0.25em;color: #696969;}#sk-container-id-1 label.sk-toggleable__label-arrow:hover:before {color: black;}#sk-container-id-1 div.sk-estimator:hover label.sk-toggleable__label-arrow:before {color: black;}#sk-container-id-1 div.sk-toggleable__content {max-height: 0;max-width: 0;overflow: hidden;text-align: left;background-color: #f0f8ff;}#sk-container-id-1 div.sk-toggleable__content pre {margin: 0.2em;color: black;border-radius: 0.25em;background-color: #f0f8ff;}#sk-container-id-1 input.sk-toggleable__control:checked~div.sk-toggleable__content {max-height: 200px;max-width: 100%;overflow: auto;}#sk-container-id-1 input.sk-toggleable__control:checked~label.sk-toggleable__label-arrow:before {content: \"▾\";}#sk-container-id-1 div.sk-estimator input.sk-toggleable__control:checked~label.sk-toggleable__label {background-color: #d4ebff;}#sk-container-id-1 div.sk-label input.sk-toggleable__control:checked~label.sk-toggleable__label {background-color: #d4ebff;}#sk-container-id-1 input.sk-hidden--visually {border: 0;clip: rect(1px 1px 1px 1px);clip: rect(1px, 1px, 1px, 1px);height: 1px;margin: -1px;overflow: hidden;padding: 0;position: absolute;width: 1px;}#sk-container-id-1 div.sk-estimator {font-family: monospace;background-color: #f0f8ff;border: 1px dotted black;border-radius: 0.25em;box-sizing: border-box;margin-bottom: 0.5em;}#sk-container-id-1 div.sk-estimator:hover {background-color: #d4ebff;}#sk-container-id-1 div.sk-parallel-item::after {content: \"\";width: 100%;border-bottom: 1px solid gray;flex-grow: 1;}#sk-container-id-1 div.sk-label:hover label.sk-toggleable__label {background-color: #d4ebff;}#sk-container-id-1 div.sk-serial::before {content: \"\";position: absolute;border-left: 1px solid gray;box-sizing: border-box;top: 0;bottom: 0;left: 50%;z-index: 0;}#sk-container-id-1 div.sk-serial {display: flex;flex-direction: column;align-items: center;background-color: white;padding-right: 0.2em;padding-left: 0.2em;position: relative;}#sk-container-id-1 div.sk-item {position: relative;z-index: 1;}#sk-container-id-1 div.sk-parallel {display: flex;align-items: stretch;justify-content: center;background-color: white;position: relative;}#sk-container-id-1 div.sk-item::before, #sk-container-id-1 div.sk-parallel-item::before {content: \"\";position: absolute;border-left: 1px solid gray;box-sizing: border-box;top: 0;bottom: 0;left: 50%;z-index: -1;}#sk-container-id-1 div.sk-parallel-item {display: flex;flex-direction: column;z-index: 1;position: relative;background-color: white;}#sk-container-id-1 div.sk-parallel-item:first-child::after {align-self: flex-end;width: 50%;}#sk-container-id-1 div.sk-parallel-item:last-child::after {align-self: flex-start;width: 50%;}#sk-container-id-1 div.sk-parallel-item:only-child::after {width: 0;}#sk-container-id-1 div.sk-dashed-wrapped {border: 1px dashed gray;margin: 0 0.4em 0.5em 0.4em;box-sizing: border-box;padding-bottom: 0.4em;background-color: white;}#sk-container-id-1 div.sk-label label {font-family: monospace;font-weight: bold;display: inline-block;line-height: 1.2em;}#sk-container-id-1 div.sk-label-container {text-align: center;}#sk-container-id-1 div.sk-container {/* jupyter's `normalize.less` sets `[hidden] { display: none; }` but bootstrap.min.css set `[hidden] { display: none !important; }` so we also need the `!important` here to be able to override the default hidden behavior on the sphinx rendered scikit-learn.org. See: https://github.com/scikit-learn/scikit-learn/issues/21755 */display: inline-block !important;position: relative;}#sk-container-id-1 div.sk-text-repr-fallback {display: none;}</style><div id=\"sk-container-id-1\" class=\"sk-top-container\"><div class=\"sk-text-repr-fallback\"><pre>LogisticRegression()</pre><b>In a Jupyter environment, please rerun this cell to show the HTML representation or trust the notebook. <br />On GitHub, the HTML representation is unable to render, please try loading this page with nbviewer.org.</b></div><div class=\"sk-container\" hidden><div class=\"sk-item\"><div class=\"sk-estimator sk-toggleable\"><input class=\"sk-toggleable__control sk-hidden--visually\" id=\"sk-estimator-id-1\" type=\"checkbox\" checked><label for=\"sk-estimator-id-1\" class=\"sk-toggleable__label sk-toggleable__label-arrow\">LogisticRegression</label><div class=\"sk-toggleable__content\"><pre>LogisticRegression()</pre></div></div></div></div></div>"
      ],
      "text/plain": [
       "LogisticRegression()"
      ]
     },
     "execution_count": 25,
     "metadata": {},
     "output_type": "execute_result"
    }
   ],
   "source": [
    "# Train the model using the training sets\n",
    "log_reg.fit(X_train, y_train)"
   ]
  },
  {
   "cell_type": "code",
   "execution_count": 26,
   "metadata": {},
   "outputs": [
    {
     "name": "stdout",
     "output_type": "stream",
     "text": [
      "Coefficients of the model:  [[-0.00977814  0.02061298  0.01007841  0.51693721  4.26705582 -0.22287154\n",
      "   0.23101268  0.10645557  0.16147855  0.024344   -0.04057533 -0.02260423\n",
      "   0.20693041 -0.46633127]]\n",
      "Intercept of the model:  [-2.70597022]\n",
      "Features:  Index(['arrival_date_month', 'meal', 'country', 'distribution_channel',\n",
      "       'deposit_type', 'customer_type', 'arrival_date_year',\n",
      "       'arrival_date_week_number', 'adults', 'children', 'babies',\n",
      "       'days_in_waiting_list', 'adr', 'total_of_special_requests'],\n",
      "      dtype='object')\n"
     ]
    }
   ],
   "source": [
    "# Print out the coefficients of the model\n",
    "print(\"Coefficients of the model: \", log_reg.coef_)\n",
    "print(\"Intercept of the model: \", log_reg.intercept_)\n",
    "print(\"Features: \", X_train.columns)"
   ]
  },
  {
   "cell_type": "code",
   "execution_count": 27,
   "metadata": {},
   "outputs": [
    {
     "name": "stdout",
     "output_type": "stream",
     "text": [
      "Coefficient of arrival_date_month is -0.009778140480864254\n",
      "Coefficient of meal is 0.020612982344768212\n",
      "Coefficient of country is 0.01007841197542333\n",
      "Coefficient of distribution_channel is 0.516937208784051\n",
      "Coefficient of deposit_type is 4.267055817227591\n",
      "Coefficient of customer_type is -0.22287154448764376\n",
      "Coefficient of arrival_date_year is 0.23101267589168853\n",
      "Coefficient of arrival_date_week_number is 0.10645557163560108\n",
      "Coefficient of adults is 0.16147855465770988\n",
      "Coefficient of children is 0.02434399666677763\n",
      "Coefficient of babies is -0.040575333652264726\n",
      "Coefficient of days_in_waiting_list is -0.022604233514105513\n",
      "Coefficient of adr is 0.20693041448603966\n",
      "Coefficient of total_of_special_requests is -0.4663312735732894\n"
     ]
    }
   ],
   "source": [
    "# Print out each of the coefficients and match them to the features.\n",
    "for i in range(len(X_train.columns)):\n",
    "    print(\"Coefficient of {} is {}\".format(X_train.columns[i], log_reg.coef_[0][i]))"
   ]
  },
  {
   "cell_type": "markdown",
   "metadata": {},
   "source": [
    "- The coefficients of the model can be used to interpret the importance of each feature.\n",
    "- The larger the absolute value of the coefficient, the more important the feature is.\n",
    "- The sign of the coefficient indicates the direction of the relationship between the feature and the target variable.\n",
    "- A positive coefficient indicates a positive relationship, while a negative coefficient indicates a negative relationship."
   ]
  },
  {
   "cell_type": "code",
   "execution_count": 28,
   "metadata": {},
   "outputs": [
    {
     "name": "stdout",
     "output_type": "stream",
     "text": [
      "Number of coefficients:  14\n"
     ]
    }
   ],
   "source": [
    "# In our case, how many coefficients are there?\n",
    "print(\"Number of coefficients: \", len(log_reg.coef_[0]))\n"
   ]
  },
  {
   "cell_type": "code",
   "execution_count": 29,
   "metadata": {},
   "outputs": [
    {
     "data": {
      "image/png": "[encoded data removed]",
      "text/plain": [
       "<Figure size 1000x800 with 1 Axes>"
      ]
     },
     "metadata": {},
     "output_type": "display_data"
    }
   ],
   "source": [
    "# Make an explanatory plot of the coefficients\n",
    "plt.figure(figsize=(10, 8))\n",
    "plt.bar(X_train.columns, log_reg.coef_[0])\n",
    "plt.xticks(rotation=90)\n",
    "plt.xlabel('Features')\n",
    "plt.ylabel('Coefficients')\n",
    "plt.title('Coefficients of the Logistic Regression Model')\n",
    "plt.show()"
   ]
  },
  {
   "cell_type": "code",
   "execution_count": 30,
   "metadata": {},
   "outputs": [],
   "source": [
    "# Make predictions using the testing set\n",
    "y_pred = log_reg.predict(X_test)"
   ]
  },
  {
   "cell_type": "code",
   "execution_count": 31,
   "metadata": {},
   "outputs": [
    {
     "name": "stdout",
     "output_type": "stream",
     "text": [
      "Accuracy: 0.7568752268475863\n",
      "Confusion Matrix:\n"
     ]
    },
    {
     "name": "stdout",
     "output_type": "stream",
     "text": [
      "[[21222  1213]\n",
      " [ 7495  5887]]\n",
      "Classification Report:\n",
      "              precision    recall  f1-score   support\n",
      "\n",
      "           0       0.74      0.95      0.83     22435\n",
      "           1       0.83      0.44      0.57     13382\n",
      "\n",
      "    accuracy                           0.76     35817\n",
      "   macro avg       0.78      0.69      0.70     35817\n",
      "weighted avg       0.77      0.76      0.73     35817\n",
      "\n"
     ]
    }
   ],
   "source": [
    "# Evaluate the model\n",
    "print(\"Accuracy:\", accuracy_score(y_test, y_pred))\n",
    "print(\"Confusion Matrix:\")\n",
    "print(confusion_matrix(y_test, y_pred))\n",
    "print(\"Classification Report:\")\n",
    "print(classification_report(y_test, y_pred))"
   ]
  },
  {
   "cell_type": "markdown",
   "metadata": {},
   "source": [
    "##### Using hyperparameter tuning and cross-validation techniques to improve the logistic regression model we built above"
   ]
  },
  {
   "cell_type": "code",
   "execution_count": 32,
   "metadata": {},
   "outputs": [],
   "source": [
    "# Using hyperparameter tuning and cross-validation techniques to improve the logistic regression model we built above\n",
    "from sklearn.model_selection import GridSearchCV"
   ]
  },
  {
   "cell_type": "code",
   "execution_count": 33,
   "metadata": {},
   "outputs": [],
   "source": [
    "# Create a Logistic Regression object\n",
    "log_reg = LogisticRegression()"
   ]
  },
  {
   "cell_type": "code",
   "execution_count": 34,
   "metadata": {},
   "outputs": [],
   "source": [
    "# Create a dictionary of hyperparameters to search\n",
    "hyperparameters = {'penalty': ['l1', 'l2'],\n",
    "                     'C': [0.001, 0.01, 0.1, 1, 10, 100, 1000]}\n",
    "# Create grid search\n",
    "gridsearch = GridSearchCV(log_reg, hyperparameters, cv=5, verbose=0)"
   ]
  },
  {
   "cell_type": "code",
   "execution_count": 35,
   "metadata": {},
   "outputs": [
    {
     "name": "stderr",
     "output_type": "stream",
     "text": [
      "/Users/jiawenli/anaconda3/lib/python3.10/site-packages/sklearn/linear_model/_logistic.py:458: ConvergenceWarning: lbfgs failed to converge (status=1):\n",
      "STOP: TOTAL NO. of ITERATIONS REACHED LIMIT.\n",
      "\n",
      "Increase the number of iterations (max_iter) or scale the data as shown in:\n",
      "    https://scikit-learn.org/stable/modules/preprocessing.html\n",
      "Please also refer to the documentation for alternative solver options:\n",
      "    https://scikit-learn.org/stable/modules/linear_model.html#logistic-regression\n",
      "  n_iter_i = _check_optimize_result(\n",
      "/Users/jiawenli/anaconda3/lib/python3.10/site-packages/sklearn/linear_model/_logistic.py:458: ConvergenceWarning: lbfgs failed to converge (status=1):\n",
      "STOP: TOTAL NO. of ITERATIONS REACHED LIMIT.\n",
      "\n",
      "Increase the number of iterations (max_iter) or scale the data as shown in:\n",
      "    https://scikit-learn.org/stable/modules/preprocessing.html\n",
      "Please also refer to the documentation for alternative solver options:\n",
      "    https://scikit-learn.org/stable/modules/linear_model.html#logistic-regression\n",
      "  n_iter_i = _check_optimize_result(\n",
      "/Users/jiawenli/anaconda3/lib/python3.10/site-packages/sklearn/linear_model/_logistic.py:458: ConvergenceWarning: lbfgs failed to converge (status=1):\n",
      "STOP: TOTAL NO. of ITERATIONS REACHED LIMIT.\n",
      "\n",
      "Increase the number of iterations (max_iter) or scale the data as shown in:\n",
      "    https://scikit-learn.org/stable/modules/preprocessing.html\n",
      "Please also refer to the documentation for alternative solver options:\n",
      "    https://scikit-learn.org/stable/modules/linear_model.html#logistic-regression\n",
      "  n_iter_i = _check_optimize_result(\n",
      "/Users/jiawenli/anaconda3/lib/python3.10/site-packages/sklearn/linear_model/_logistic.py:458: ConvergenceWarning: lbfgs failed to converge (status=1):\n",
      "STOP: TOTAL NO. of ITERATIONS REACHED LIMIT.\n",
      "\n",
      "Increase the number of iterations (max_iter) or scale the data as shown in:\n",
      "    https://scikit-learn.org/stable/modules/preprocessing.html\n",
      "Please also refer to the documentation for alternative solver options:\n",
      "    https://scikit-learn.org/stable/modules/linear_model.html#logistic-regression\n",
      "  n_iter_i = _check_optimize_result(\n",
      "/Users/jiawenli/anaconda3/lib/python3.10/site-packages/sklearn/linear_model/_logistic.py:458: ConvergenceWarning: lbfgs failed to converge (status=1):\n",
      "STOP: TOTAL NO. of ITERATIONS REACHED LIMIT.\n",
      "\n",
      "Increase the number of iterations (max_iter) or scale the data as shown in:\n",
      "    https://scikit-learn.org/stable/modules/preprocessing.html\n",
      "Please also refer to the documentation for alternative solver options:\n",
      "    https://scikit-learn.org/stable/modules/linear_model.html#logistic-regression\n",
      "  n_iter_i = _check_optimize_result(\n",
      "/Users/jiawenli/anaconda3/lib/python3.10/site-packages/sklearn/linear_model/_logistic.py:458: ConvergenceWarning: lbfgs failed to converge (status=1):\n",
      "STOP: TOTAL NO. of ITERATIONS REACHED LIMIT.\n",
      "\n",
      "Increase the number of iterations (max_iter) or scale the data as shown in:\n",
      "    https://scikit-learn.org/stable/modules/preprocessing.html\n",
      "Please also refer to the documentation for alternative solver options:\n",
      "    https://scikit-learn.org/stable/modules/linear_model.html#logistic-regression\n",
      "  n_iter_i = _check_optimize_result(\n",
      "/Users/jiawenli/anaconda3/lib/python3.10/site-packages/sklearn/linear_model/_logistic.py:458: ConvergenceWarning: lbfgs failed to converge (status=1):\n",
      "STOP: TOTAL NO. of ITERATIONS REACHED LIMIT.\n",
      "\n",
      "Increase the number of iterations (max_iter) or scale the data as shown in:\n",
      "    https://scikit-learn.org/stable/modules/preprocessing.html\n",
      "Please also refer to the documentation for alternative solver options:\n",
      "    https://scikit-learn.org/stable/modules/linear_model.html#logistic-regression\n",
      "  n_iter_i = _check_optimize_result(\n",
      "/Users/jiawenli/anaconda3/lib/python3.10/site-packages/sklearn/linear_model/_logistic.py:458: ConvergenceWarning: lbfgs failed to converge (status=1):\n",
      "STOP: TOTAL NO. of ITERATIONS REACHED LIMIT.\n",
      "\n",
      "Increase the number of iterations (max_iter) or scale the data as shown in:\n",
      "    https://scikit-learn.org/stable/modules/preprocessing.html\n",
      "Please also refer to the documentation for alternative solver options:\n",
      "    https://scikit-learn.org/stable/modules/linear_model.html#logistic-regression\n",
      "  n_iter_i = _check_optimize_result(\n",
      "/Users/jiawenli/anaconda3/lib/python3.10/site-packages/sklearn/linear_model/_logistic.py:458: ConvergenceWarning: lbfgs failed to converge (status=1):\n",
      "STOP: TOTAL NO. of ITERATIONS REACHED LIMIT.\n",
      "\n",
      "Increase the number of iterations (max_iter) or scale the data as shown in:\n",
      "    https://scikit-learn.org/stable/modules/preprocessing.html\n",
      "Please also refer to the documentation for alternative solver options:\n",
      "    https://scikit-learn.org/stable/modules/linear_model.html#logistic-regression\n",
      "  n_iter_i = _check_optimize_result(\n",
      "/Users/jiawenli/anaconda3/lib/python3.10/site-packages/sklearn/linear_model/_logistic.py:458: ConvergenceWarning: lbfgs failed to converge (status=1):\n",
      "STOP: TOTAL NO. of ITERATIONS REACHED LIMIT.\n",
      "\n",
      "Increase the number of iterations (max_iter) or scale the data as shown in:\n",
      "    https://scikit-learn.org/stable/modules/preprocessing.html\n",
      "Please also refer to the documentation for alternative solver options:\n",
      "    https://scikit-learn.org/stable/modules/linear_model.html#logistic-regression\n",
      "  n_iter_i = _check_optimize_result(\n",
      "/Users/jiawenli/anaconda3/lib/python3.10/site-packages/sklearn/linear_model/_logistic.py:458: ConvergenceWarning: lbfgs failed to converge (status=1):\n",
      "STOP: TOTAL NO. of ITERATIONS REACHED LIMIT.\n",
      "\n",
      "Increase the number of iterations (max_iter) or scale the data as shown in:\n",
      "    https://scikit-learn.org/stable/modules/preprocessing.html\n",
      "Please also refer to the documentation for alternative solver options:\n",
      "    https://scikit-learn.org/stable/modules/linear_model.html#logistic-regression\n",
      "  n_iter_i = _check_optimize_result(\n",
      "/Users/jiawenli/anaconda3/lib/python3.10/site-packages/sklearn/linear_model/_logistic.py:458: ConvergenceWarning: lbfgs failed to converge (status=1):\n",
      "STOP: TOTAL NO. of ITERATIONS REACHED LIMIT.\n",
      "\n",
      "Increase the number of iterations (max_iter) or scale the data as shown in:\n",
      "    https://scikit-learn.org/stable/modules/preprocessing.html\n",
      "Please also refer to the documentation for alternative solver options:\n",
      "    https://scikit-learn.org/stable/modules/linear_model.html#logistic-regression\n",
      "  n_iter_i = _check_optimize_result(\n",
      "/Users/jiawenli/anaconda3/lib/python3.10/site-packages/sklearn/linear_model/_logistic.py:458: ConvergenceWarning: lbfgs failed to converge (status=1):\n",
      "STOP: TOTAL NO. of ITERATIONS REACHED LIMIT.\n",
      "\n",
      "Increase the number of iterations (max_iter) or scale the data as shown in:\n",
      "    https://scikit-learn.org/stable/modules/preprocessing.html\n",
      "Please also refer to the documentation for alternative solver options:\n",
      "    https://scikit-learn.org/stable/modules/linear_model.html#logistic-regression\n",
      "  n_iter_i = _check_optimize_result(\n",
      "/Users/jiawenli/anaconda3/lib/python3.10/site-packages/sklearn/linear_model/_logistic.py:458: ConvergenceWarning: lbfgs failed to converge (status=1):\n",
      "STOP: TOTAL NO. of ITERATIONS REACHED LIMIT.\n",
      "\n",
      "Increase the number of iterations (max_iter) or scale the data as shown in:\n",
      "    https://scikit-learn.org/stable/modules/preprocessing.html\n",
      "Please also refer to the documentation for alternative solver options:\n",
      "    https://scikit-learn.org/stable/modules/linear_model.html#logistic-regression\n",
      "  n_iter_i = _check_optimize_result(\n",
      "/Users/jiawenli/anaconda3/lib/python3.10/site-packages/sklearn/linear_model/_logistic.py:458: ConvergenceWarning: lbfgs failed to converge (status=1):\n",
      "STOP: TOTAL NO. of ITERATIONS REACHED LIMIT.\n",
      "\n",
      "Increase the number of iterations (max_iter) or scale the data as shown in:\n",
      "    https://scikit-learn.org/stable/modules/preprocessing.html\n",
      "Please also refer to the documentation for alternative solver options:\n",
      "    https://scikit-learn.org/stable/modules/linear_model.html#logistic-regression\n",
      "  n_iter_i = _check_optimize_result(\n",
      "/Users/jiawenli/anaconda3/lib/python3.10/site-packages/sklearn/linear_model/_logistic.py:458: ConvergenceWarning: lbfgs failed to converge (status=1):\n",
      "STOP: TOTAL NO. of ITERATIONS REACHED LIMIT.\n",
      "\n",
      "Increase the number of iterations (max_iter) or scale the data as shown in:\n",
      "    https://scikit-learn.org/stable/modules/preprocessing.html\n",
      "Please also refer to the documentation for alternative solver options:\n",
      "    https://scikit-learn.org/stable/modules/linear_model.html#logistic-regression\n",
      "  n_iter_i = _check_optimize_result(\n",
      "/Users/jiawenli/anaconda3/lib/python3.10/site-packages/sklearn/linear_model/_logistic.py:458: ConvergenceWarning: lbfgs failed to converge (status=1):\n",
      "STOP: TOTAL NO. of ITERATIONS REACHED LIMIT.\n",
      "\n",
      "Increase the number of iterations (max_iter) or scale the data as shown in:\n",
      "    https://scikit-learn.org/stable/modules/preprocessing.html\n",
      "Please also refer to the documentation for alternative solver options:\n",
      "    https://scikit-learn.org/stable/modules/linear_model.html#logistic-regression\n",
      "  n_iter_i = _check_optimize_result(\n",
      "/Users/jiawenli/anaconda3/lib/python3.10/site-packages/sklearn/linear_model/_logistic.py:458: ConvergenceWarning: lbfgs failed to converge (status=1):\n",
      "STOP: TOTAL NO. of ITERATIONS REACHED LIMIT.\n",
      "\n",
      "Increase the number of iterations (max_iter) or scale the data as shown in:\n",
      "    https://scikit-learn.org/stable/modules/preprocessing.html\n",
      "Please also refer to the documentation for alternative solver options:\n",
      "    https://scikit-learn.org/stable/modules/linear_model.html#logistic-regression\n",
      "  n_iter_i = _check_optimize_result(\n",
      "/Users/jiawenli/anaconda3/lib/python3.10/site-packages/sklearn/linear_model/_logistic.py:458: ConvergenceWarning: lbfgs failed to converge (status=1):\n",
      "STOP: TOTAL NO. of ITERATIONS REACHED LIMIT.\n",
      "\n",
      "Increase the number of iterations (max_iter) or scale the data as shown in:\n",
      "    https://scikit-learn.org/stable/modules/preprocessing.html\n",
      "Please also refer to the documentation for alternative solver options:\n",
      "    https://scikit-learn.org/stable/modules/linear_model.html#logistic-regression\n",
      "  n_iter_i = _check_optimize_result(\n",
      "/Users/jiawenli/anaconda3/lib/python3.10/site-packages/sklearn/linear_model/_logistic.py:458: ConvergenceWarning: lbfgs failed to converge (status=1):\n",
      "STOP: TOTAL NO. of ITERATIONS REACHED LIMIT.\n",
      "\n",
      "Increase the number of iterations (max_iter) or scale the data as shown in:\n",
      "    https://scikit-learn.org/stable/modules/preprocessing.html\n",
      "Please also refer to the documentation for alternative solver options:\n",
      "    https://scikit-learn.org/stable/modules/linear_model.html#logistic-regression\n",
      "  n_iter_i = _check_optimize_result(\n",
      "/Users/jiawenli/anaconda3/lib/python3.10/site-packages/sklearn/linear_model/_logistic.py:458: ConvergenceWarning: lbfgs failed to converge (status=1):\n",
      "STOP: TOTAL NO. of ITERATIONS REACHED LIMIT.\n",
      "\n",
      "Increase the number of iterations (max_iter) or scale the data as shown in:\n",
      "    https://scikit-learn.org/stable/modules/preprocessing.html\n",
      "Please also refer to the documentation for alternative solver options:\n",
      "    https://scikit-learn.org/stable/modules/linear_model.html#logistic-regression\n",
      "  n_iter_i = _check_optimize_result(\n",
      "/Users/jiawenli/anaconda3/lib/python3.10/site-packages/sklearn/linear_model/_logistic.py:458: ConvergenceWarning: lbfgs failed to converge (status=1):\n",
      "STOP: TOTAL NO. of ITERATIONS REACHED LIMIT.\n",
      "\n",
      "Increase the number of iterations (max_iter) or scale the data as shown in:\n",
      "    https://scikit-learn.org/stable/modules/preprocessing.html\n",
      "Please also refer to the documentation for alternative solver options:\n",
      "    https://scikit-learn.org/stable/modules/linear_model.html#logistic-regression\n",
      "  n_iter_i = _check_optimize_result(\n",
      "/Users/jiawenli/anaconda3/lib/python3.10/site-packages/sklearn/linear_model/_logistic.py:458: ConvergenceWarning: lbfgs failed to converge (status=1):\n",
      "STOP: TOTAL NO. of ITERATIONS REACHED LIMIT.\n",
      "\n",
      "Increase the number of iterations (max_iter) or scale the data as shown in:\n",
      "    https://scikit-learn.org/stable/modules/preprocessing.html\n",
      "Please also refer to the documentation for alternative solver options:\n",
      "    https://scikit-learn.org/stable/modules/linear_model.html#logistic-regression\n",
      "  n_iter_i = _check_optimize_result(\n",
      "/Users/jiawenli/anaconda3/lib/python3.10/site-packages/sklearn/linear_model/_logistic.py:458: ConvergenceWarning: lbfgs failed to converge (status=1):\n",
      "STOP: TOTAL NO. of ITERATIONS REACHED LIMIT.\n",
      "\n",
      "Increase the number of iterations (max_iter) or scale the data as shown in:\n",
      "    https://scikit-learn.org/stable/modules/preprocessing.html\n",
      "Please also refer to the documentation for alternative solver options:\n",
      "    https://scikit-learn.org/stable/modules/linear_model.html#logistic-regression\n",
      "  n_iter_i = _check_optimize_result(\n",
      "/Users/jiawenli/anaconda3/lib/python3.10/site-packages/sklearn/linear_model/_logistic.py:458: ConvergenceWarning: lbfgs failed to converge (status=1):\n",
      "STOP: TOTAL NO. of ITERATIONS REACHED LIMIT.\n",
      "\n",
      "Increase the number of iterations (max_iter) or scale the data as shown in:\n",
      "    https://scikit-learn.org/stable/modules/preprocessing.html\n",
      "Please also refer to the documentation for alternative solver options:\n",
      "    https://scikit-learn.org/stable/modules/linear_model.html#logistic-regression\n",
      "  n_iter_i = _check_optimize_result(\n",
      "/Users/jiawenli/anaconda3/lib/python3.10/site-packages/sklearn/linear_model/_logistic.py:458: ConvergenceWarning: lbfgs failed to converge (status=1):\n",
      "STOP: TOTAL NO. of ITERATIONS REACHED LIMIT.\n",
      "\n",
      "Increase the number of iterations (max_iter) or scale the data as shown in:\n",
      "    https://scikit-learn.org/stable/modules/preprocessing.html\n",
      "Please also refer to the documentation for alternative solver options:\n",
      "    https://scikit-learn.org/stable/modules/linear_model.html#logistic-regression\n",
      "  n_iter_i = _check_optimize_result(\n",
      "/Users/jiawenli/anaconda3/lib/python3.10/site-packages/sklearn/linear_model/_logistic.py:458: ConvergenceWarning: lbfgs failed to converge (status=1):\n",
      "STOP: TOTAL NO. of ITERATIONS REACHED LIMIT.\n",
      "\n",
      "Increase the number of iterations (max_iter) or scale the data as shown in:\n",
      "    https://scikit-learn.org/stable/modules/preprocessing.html\n",
      "Please also refer to the documentation for alternative solver options:\n",
      "    https://scikit-learn.org/stable/modules/linear_model.html#logistic-regression\n",
      "  n_iter_i = _check_optimize_result(\n",
      "/Users/jiawenli/anaconda3/lib/python3.10/site-packages/sklearn/linear_model/_logistic.py:458: ConvergenceWarning: lbfgs failed to converge (status=1):\n",
      "STOP: TOTAL NO. of ITERATIONS REACHED LIMIT.\n",
      "\n",
      "Increase the number of iterations (max_iter) or scale the data as shown in:\n",
      "    https://scikit-learn.org/stable/modules/preprocessing.html\n",
      "Please also refer to the documentation for alternative solver options:\n",
      "    https://scikit-learn.org/stable/modules/linear_model.html#logistic-regression\n",
      "  n_iter_i = _check_optimize_result(\n",
      "/Users/jiawenli/anaconda3/lib/python3.10/site-packages/sklearn/linear_model/_logistic.py:458: ConvergenceWarning: lbfgs failed to converge (status=1):\n",
      "STOP: TOTAL NO. of ITERATIONS REACHED LIMIT.\n",
      "\n",
      "Increase the number of iterations (max_iter) or scale the data as shown in:\n",
      "    https://scikit-learn.org/stable/modules/preprocessing.html\n",
      "Please also refer to the documentation for alternative solver options:\n",
      "    https://scikit-learn.org/stable/modules/linear_model.html#logistic-regression\n",
      "  n_iter_i = _check_optimize_result(\n",
      "/Users/jiawenli/anaconda3/lib/python3.10/site-packages/sklearn/linear_model/_logistic.py:458: ConvergenceWarning: lbfgs failed to converge (status=1):\n",
      "STOP: TOTAL NO. of ITERATIONS REACHED LIMIT.\n",
      "\n",
      "Increase the number of iterations (max_iter) or scale the data as shown in:\n",
      "    https://scikit-learn.org/stable/modules/preprocessing.html\n",
      "Please also refer to the documentation for alternative solver options:\n",
      "    https://scikit-learn.org/stable/modules/linear_model.html#logistic-regression\n",
      "  n_iter_i = _check_optimize_result(\n",
      "/Users/jiawenli/anaconda3/lib/python3.10/site-packages/sklearn/linear_model/_logistic.py:458: ConvergenceWarning: lbfgs failed to converge (status=1):\n",
      "STOP: TOTAL NO. of ITERATIONS REACHED LIMIT.\n",
      "\n",
      "Increase the number of iterations (max_iter) or scale the data as shown in:\n",
      "    https://scikit-learn.org/stable/modules/preprocessing.html\n",
      "Please also refer to the documentation for alternative solver options:\n",
      "    https://scikit-learn.org/stable/modules/linear_model.html#logistic-regression\n",
      "  n_iter_i = _check_optimize_result(\n",
      "/Users/jiawenli/anaconda3/lib/python3.10/site-packages/sklearn/linear_model/_logistic.py:458: ConvergenceWarning: lbfgs failed to converge (status=1):\n",
      "STOP: TOTAL NO. of ITERATIONS REACHED LIMIT.\n",
      "\n",
      "Increase the number of iterations (max_iter) or scale the data as shown in:\n",
      "    https://scikit-learn.org/stable/modules/preprocessing.html\n",
      "Please also refer to the documentation for alternative solver options:\n",
      "    https://scikit-learn.org/stable/modules/linear_model.html#logistic-regression\n",
      "  n_iter_i = _check_optimize_result(\n",
      "/Users/jiawenli/anaconda3/lib/python3.10/site-packages/sklearn/linear_model/_logistic.py:458: ConvergenceWarning: lbfgs failed to converge (status=1):\n",
      "STOP: TOTAL NO. of ITERATIONS REACHED LIMIT.\n",
      "\n",
      "Increase the number of iterations (max_iter) or scale the data as shown in:\n",
      "    https://scikit-learn.org/stable/modules/preprocessing.html\n",
      "Please also refer to the documentation for alternative solver options:\n",
      "    https://scikit-learn.org/stable/modules/linear_model.html#logistic-regression\n",
      "  n_iter_i = _check_optimize_result(\n",
      "/Users/jiawenli/anaconda3/lib/python3.10/site-packages/sklearn/linear_model/_logistic.py:458: ConvergenceWarning: lbfgs failed to converge (status=1):\n",
      "STOP: TOTAL NO. of ITERATIONS REACHED LIMIT.\n",
      "\n",
      "Increase the number of iterations (max_iter) or scale the data as shown in:\n",
      "    https://scikit-learn.org/stable/modules/preprocessing.html\n",
      "Please also refer to the documentation for alternative solver options:\n",
      "    https://scikit-learn.org/stable/modules/linear_model.html#logistic-regression\n",
      "  n_iter_i = _check_optimize_result(\n",
      "/Users/jiawenli/anaconda3/lib/python3.10/site-packages/sklearn/linear_model/_logistic.py:458: ConvergenceWarning: lbfgs failed to converge (status=1):\n",
      "STOP: TOTAL NO. of ITERATIONS REACHED LIMIT.\n",
      "\n",
      "Increase the number of iterations (max_iter) or scale the data as shown in:\n",
      "    https://scikit-learn.org/stable/modules/preprocessing.html\n",
      "Please also refer to the documentation for alternative solver options:\n",
      "    https://scikit-learn.org/stable/modules/linear_model.html#logistic-regression\n",
      "  n_iter_i = _check_optimize_result(\n",
      "/Users/jiawenli/anaconda3/lib/python3.10/site-packages/sklearn/model_selection/_validation.py:378: FitFailedWarning: \n",
      "35 fits failed out of a total of 70.\n",
      "The score on these train-test partitions for these parameters will be set to nan.\n",
      "If these failures are not expected, you can try to debug them by setting error_score='raise'.\n",
      "\n",
      "Below are more details about the failures:\n",
      "--------------------------------------------------------------------------------\n",
      "35 fits failed with the following error:\n",
      "Traceback (most recent call last):\n",
      "  File \"/Users/jiawenli/anaconda3/lib/python3.10/site-packages/sklearn/model_selection/_validation.py\", line 686, in _fit_and_score\n",
      "    estimator.fit(X_train, y_train, **fit_params)\n",
      "  File \"/Users/jiawenli/anaconda3/lib/python3.10/site-packages/sklearn/linear_model/_logistic.py\", line 1162, in fit\n",
      "    solver = _check_solver(self.solver, self.penalty, self.dual)\n",
      "  File \"/Users/jiawenli/anaconda3/lib/python3.10/site-packages/sklearn/linear_model/_logistic.py\", line 54, in _check_solver\n",
      "    raise ValueError(\n",
      "ValueError: Solver lbfgs supports only 'l2' or 'none' penalties, got l1 penalty.\n",
      "\n",
      "  warnings.warn(some_fits_failed_message, FitFailedWarning)\n",
      "/Users/jiawenli/anaconda3/lib/python3.10/site-packages/sklearn/model_selection/_search.py:952: UserWarning: One or more of the test scores are non-finite: [       nan 0.75353281        nan 0.75614127        nan 0.75684728\n",
      "        nan 0.75706265        nan 0.75760111        nan 0.75796007\n",
      "        nan 0.7578763 ]\n",
      "  warnings.warn(\n",
      "/Users/jiawenli/anaconda3/lib/python3.10/site-packages/sklearn/linear_model/_logistic.py:458: ConvergenceWarning: lbfgs failed to converge (status=1):\n",
      "STOP: TOTAL NO. of ITERATIONS REACHED LIMIT.\n",
      "\n",
      "Increase the number of iterations (max_iter) or scale the data as shown in:\n",
      "    https://scikit-learn.org/stable/modules/preprocessing.html\n",
      "Please also refer to the documentation for alternative solver options:\n",
      "    https://scikit-learn.org/stable/modules/linear_model.html#logistic-regression\n",
      "  n_iter_i = _check_optimize_result(\n"
     ]
    }
   ],
   "source": [
    "# Fit grid search\n",
    "best_model = gridsearch.fit(X_train, y_train)"
   ]
  },
  {
   "cell_type": "code",
   "execution_count": 36,
   "metadata": {},
   "outputs": [
    {
     "name": "stdout",
     "output_type": "stream",
     "text": [
      "Best Penalty: l2\n",
      "Best C: 100\n"
     ]
    }
   ],
   "source": [
    "# View best hyperparameters\n",
    "print('Best Penalty:', best_model.best_estimator_.get_params()['penalty'])\n",
    "print('Best C:', best_model.best_estimator_.get_params()['C'])"
   ]
  },
  {
   "cell_type": "code",
   "execution_count": 37,
   "metadata": {},
   "outputs": [],
   "source": [
    "# Make predictions using the testing set\n",
    "y_pred = best_model.predict(X_test)"
   ]
  },
  {
   "cell_type": "code",
   "execution_count": 38,
   "metadata": {},
   "outputs": [
    {
     "name": "stdout",
     "output_type": "stream",
     "text": [
      "Accuracy: 0.7556746796214088\n",
      "Confusion Matrix:\n",
      "[[21283  1152]\n",
      " [ 7599  5783]]\n",
      "Classification Report:\n",
      "              precision    recall  f1-score   support\n",
      "\n",
      "           0       0.74      0.95      0.83     22435\n",
      "           1       0.83      0.43      0.57     13382\n",
      "\n",
      "    accuracy                           0.76     35817\n",
      "   macro avg       0.79      0.69      0.70     35817\n",
      "weighted avg       0.77      0.76      0.73     35817\n",
      "\n"
     ]
    }
   ],
   "source": [
    "# Evaluate the model\n",
    "print(\"Accuracy:\", accuracy_score(y_test, y_pred))\n",
    "print(\"Confusion Matrix:\")\n",
    "print(confusion_matrix(y_test, y_pred))\n",
    "print(\"Classification Report:\")\n",
    "print(classification_report(y_test, y_pred))"
   ]
  },
  {
   "cell_type": "code",
   "execution_count": 39,
   "metadata": {},
   "outputs": [
    {
     "name": "stdout",
     "output_type": "stream",
     "text": [
      "True Negatives:  21283\n",
      "False Positives:  1152\n",
      "False Negatives:  7599\n",
      "True Positives:  5783\n"
     ]
    }
   ],
   "source": [
    "# Print out the TP, FP, TN, FN values from the confusion matrix\n",
    "tn, fp, fn, tp = confusion_matrix(y_test, y_pred).ravel()\n",
    "print(\"True Negatives: \", tn)\n",
    "print(\"False Positives: \", fp)\n",
    "print(\"False Negatives: \", fn)\n",
    "print(\"True Positives: \", tp)\n"
   ]
  },
  {
   "cell_type": "markdown",
   "metadata": {},
   "source": [
    "Determine whether the model is good enough to be deployed?\n",
    "\n",
    "Then We need to calculate accuracy, precision, recall, sensitivity, and F1 score\n",
    "- Accuracy = (TP + TN) / (TP + TN + FP + FN)\n",
    "- Precision = TP / (TP + FP)\n",
    "- Recall = TP / (TP + FN)\n",
    "- Sensitivity = TP / (TP + FN)\n",
    "- F1 score = 2 * Precision * Recall / (Precision + Recall)"
   ]
  },
  {
   "cell_type": "code",
   "execution_count": 40,
   "metadata": {},
   "outputs": [
    {
     "name": "stdout",
     "output_type": "stream",
     "text": [
      "Accuracy:  0.7556746796214088\n",
      "Precision:  0.8338860850757029\n",
      "Recall:  0.4321476610372142\n",
      "Sensitivity:  0.4321476610372142\n",
      "F1 Score:  0.569276960181129\n"
     ]
    }
   ],
   "source": [
    "# the accuracy of the model\n",
    "accuracy = (tp + tn) / (tp + tn + fp + fn)\n",
    "print(\"Accuracy: \", accuracy)\n",
    "# the precision of the model\n",
    "precision = tp / (tp + fp)\n",
    "print(\"Precision: \", precision)\n",
    "# the recall of the model\n",
    "recall = tp / (tp + fn)\n",
    "print(\"Recall: \", recall)\n",
    "# the sensitivity of the model\n",
    "sensitivity = tp / (tp + fn)\n",
    "print(\"Sensitivity: \", sensitivity)\n",
    "# the F1 score of the model\n",
    "f1_score = 2 * precision * recall / (precision + recall)\n",
    "print(\"F1 Score: \", f1_score)"
   ]
  },
  {
   "cell_type": "markdown",
   "metadata": {},
   "source": [
    "In our case, we want to predict whether a customer will cancel the booking or not.\n",
    "- If we predict that a customer will cancel the booking, but the customer actually does not cancel the booking, then we lose money. (FP)\n",
    "- If we predict that a customer will not cancel the booking, but the customer actually cancels the booking, then we lose the opportunity to sell the room to another customer. (FN)\n",
    "\n",
    "In our case, just to make it clear:\n",
    "- TP means that the model correctly predicted that the booking was canceled when it actually was canceled.\n",
    "- FP means that the model incorrectly predicted that the booking was canceled when it actually was not canceled.\n",
    "- TN means that the model correctly predicted that the booking was not canceled when it actually was not canceled.\n",
    "- FN means that the model incorrectly predicted that the booking was not canceled when it actually was canceled.\n",
    "\n",
    "In our case, we want to minimize the number of False Positives (FP) and False Negatives (FN).\n",
    "Therefore, we should assess the sensitivity of the model.\n",
    "\n",
    "Why do we want to minimize the false negatives?\n",
    "- False negatives are the cases where the model predicts the negative class when it should have predicted the positive class.\n",
    "- In our case, a false negative is when the model predicts that a booking will not be canceled when it actually will be canceled.\n",
    "\n",
    "This is a problem because the hotel will not be prepared for the cancellation and will not be able to fill the room with another booking.\n",
    "This will result in a loss of revenue for the hotel.\n",
    "\n",
    "Our sensitivity is 0.43, which is relatively low.\n",
    "So, we can say that our model is not good enough.\n",
    "Because it means that our model can correctly predict 43% of the customers who will cancel the booking."
   ]
  },
  {
   "cell_type": "code",
   "execution_count": 41,
   "metadata": {},
   "outputs": [],
   "source": [
    "# Plot the ROC curve and calculate the AUC\n",
    "from sklearn.metrics import roc_curve, roc_auc_score"
   ]
  },
  {
   "cell_type": "code",
   "execution_count": 42,
   "metadata": {},
   "outputs": [],
   "source": [
    "# Compute predicted probabilities: y_pred_prob\n",
    "y_pred_prob = best_model.predict_proba(X_test)[:,1]"
   ]
  },
  {
   "cell_type": "code",
   "execution_count": 43,
   "metadata": {},
   "outputs": [],
   "source": [
    "# Generate ROC curve values: fpr, tpr, thresholds\n",
    "fpr, tpr, thresholds = roc_curve(y_test, y_pred_prob)"
   ]
  },
  {
   "cell_type": "code",
   "execution_count": 44,
   "metadata": {},
   "outputs": [
    {
     "data": {
      "image/png": "[encoded data removed]",
      "text/plain": [
       "<Figure size 1000x800 with 1 Axes>"
      ]
     },
     "metadata": {},
     "output_type": "display_data"
    }
   ],
   "source": [
    "# Plot ROC curve\n",
    "plt.figure(figsize=(10, 8))\n",
    "plt.plot([0, 1], [0, 1], 'k--')\n",
    "plt.plot(fpr, tpr)\n",
    "plt.xlabel('False Positive Rate')\n",
    "plt.ylabel('True Positive Rate')\n",
    "plt.title('ROC Curve')\n",
    "plt.show()"
   ]
  },
  {
   "cell_type": "code",
   "execution_count": 45,
   "metadata": {},
   "outputs": [
    {
     "name": "stdout",
     "output_type": "stream",
     "text": [
      "AUC:  0.7942042134575192\n"
     ]
    }
   ],
   "source": [
    "# Compute and print AUC score\n",
    "print(\"AUC: \", roc_auc_score(y_test, y_pred_prob))"
   ]
  },
  {
   "cell_type": "markdown",
   "metadata": {},
   "source": [
    "How to assess AUC score?\n",
    "- AUC score is a measure of how well the model is able to distinguish between the classes.\n",
    "- AUC score of 0.5 means that the model is not able to distinguish between the classes.\n",
    "- AUC score of 1 means that the model is able to perfectly distinguish between the classes."
   ]
  },
  {
   "cell_type": "markdown",
   "metadata": {},
   "source": [
    "AUC score of 0.79 indicates that the model is pretty good at distinguishing between positive and negative classes.\n",
    "\n",
    "In our case, the positive class is 'is_canceled' = 1, and the negative class is 'is_canceled' = 0.\n",
    "AUC score of 0.79 indicates that the model is very good at distinguishing between canceled and not canceled bookings.\n",
    "\n",
    "Note: \n",
    "- AUC 0f 0.79 does not say anything in terms of predicting whether a booking will be canceled or not.\n",
    "- AUC score of 0.79 only indicates that the model is very good at distinguishing between canceled and not canceled bookings."
   ]
  },
  {
   "cell_type": "markdown",
   "metadata": {},
   "source": [
    "----------------"
   ]
  },
  {
   "cell_type": "markdown",
   "metadata": {},
   "source": [
    "#### Key insights from our logistic regression model:\n",
    "\n",
    "1. Accuracy: Accuracy is the percentage of outcomes (both true examples and true counterexamples) that the model predicts correctly out of all cases. In our case, an accuracy of 0.75 means that the model predicts correctly 75% of the time.\n",
    "\n",
    "2. Precision: Precision is the percentage of true positive cases out of the sample predicted to be positive cases (in this case, canceled bookings). In our case, a precision of 0.83 means that 83% of the cases predicted by the model to be canceled are actually canceled.\n",
    "\n",
    "3. Recall: Recall is the percentage of true positive cases (in this case, canceled bookings) that were correctly predicted. In our case, a recall of 0.43 means that only 43% of the actual cancelations were correctly predicted by the model.\n",
    "\n",
    "4. Sensitivity: Sensitivity is actually recall, so in our case a sensitivity of 43 could mean a recall of 43%.\n",
    "\n",
    "5. F1 Score (F1 value): The F1 value is the harmonic mean of precision and recall, in order to find a balance between the two. In our case, an F1 value of 0.56 means that the model achieves a better balance between precision and recall.\n",
    "\n",
    "These metrics tell us how well the model is performing in predicting canceled bookings. \n",
    "- The model has a high precision rate, meaning that the model tends to predict correctly when predicting canceled bookings. \n",
    "- However, the model's recall is low, meaning that a large proportion of actual cancellations are not predicted by the model. \n",
    "- The F1 value indicates how well the model balances precision and recall, and a value of 0.56 means that there is room for improvement in the model's balance between the two."
   ]
  },
  {
   "cell_type": "markdown",
   "metadata": {},
   "source": [
    "-------------"
   ]
  },
  {
   "cell_type": "markdown",
   "metadata": {},
   "source": [
    "##### 2. Decision Trees"
   ]
  },
  {
   "cell_type": "code",
   "execution_count": 46,
   "metadata": {},
   "outputs": [],
   "source": [
    "# Build a Decision Tree Model to study the relationship between the features and the target variable\n",
    "from sklearn.tree import DecisionTreeClassifier"
   ]
  },
  {
   "cell_type": "code",
   "execution_count": 47,
   "metadata": {},
   "outputs": [],
   "source": [
    "# Create a Decision Tree object\n",
    "dt = DecisionTreeClassifier()"
   ]
  },
  {
   "cell_type": "code",
   "execution_count": 48,
   "metadata": {},
   "outputs": [
    {
     "data": {
      "text/html": [
       "<style>#sk-container-id-2 {color: black;background-color: white;}#sk-container-id-2 pre{padding: 0;}#sk-container-id-2 div.sk-toggleable {background-color: white;}#sk-container-id-2 label.sk-toggleable__label {cursor: pointer;display: block;width: 100%;margin-bottom: 0;padding: 0.3em;box-sizing: border-box;text-align: center;}#sk-container-id-2 label.sk-toggleable__label-arrow:before {content: \"▸\";float: left;margin-right: 0.25em;color: #696969;}#sk-container-id-2 label.sk-toggleable__label-arrow:hover:before {color: black;}#sk-container-id-2 div.sk-estimator:hover label.sk-toggleable__label-arrow:before {color: black;}#sk-container-id-2 div.sk-toggleable__content {max-height: 0;max-width: 0;overflow: hidden;text-align: left;background-color: #f0f8ff;}#sk-container-id-2 div.sk-toggleable__content pre {margin: 0.2em;color: black;border-radius: 0.25em;background-color: #f0f8ff;}#sk-container-id-2 input.sk-toggleable__control:checked~div.sk-toggleable__content {max-height: 200px;max-width: 100%;overflow: auto;}#sk-container-id-2 input.sk-toggleable__control:checked~label.sk-toggleable__label-arrow:before {content: \"▾\";}#sk-container-id-2 div.sk-estimator input.sk-toggleable__control:checked~label.sk-toggleable__label {background-color: #d4ebff;}#sk-container-id-2 div.sk-label input.sk-toggleable__control:checked~label.sk-toggleable__label {background-color: #d4ebff;}#sk-container-id-2 input.sk-hidden--visually {border: 0;clip: rect(1px 1px 1px 1px);clip: rect(1px, 1px, 1px, 1px);height: 1px;margin: -1px;overflow: hidden;padding: 0;position: absolute;width: 1px;}#sk-container-id-2 div.sk-estimator {font-family: monospace;background-color: #f0f8ff;border: 1px dotted black;border-radius: 0.25em;box-sizing: border-box;margin-bottom: 0.5em;}#sk-container-id-2 div.sk-estimator:hover {background-color: #d4ebff;}#sk-container-id-2 div.sk-parallel-item::after {content: \"\";width: 100%;border-bottom: 1px solid gray;flex-grow: 1;}#sk-container-id-2 div.sk-label:hover label.sk-toggleable__label {background-color: #d4ebff;}#sk-container-id-2 div.sk-serial::before {content: \"\";position: absolute;border-left: 1px solid gray;box-sizing: border-box;top: 0;bottom: 0;left: 50%;z-index: 0;}#sk-container-id-2 div.sk-serial {display: flex;flex-direction: column;align-items: center;background-color: white;padding-right: 0.2em;padding-left: 0.2em;position: relative;}#sk-container-id-2 div.sk-item {position: relative;z-index: 1;}#sk-container-id-2 div.sk-parallel {display: flex;align-items: stretch;justify-content: center;background-color: white;position: relative;}#sk-container-id-2 div.sk-item::before, #sk-container-id-2 div.sk-parallel-item::before {content: \"\";position: absolute;border-left: 1px solid gray;box-sizing: border-box;top: 0;bottom: 0;left: 50%;z-index: -1;}#sk-container-id-2 div.sk-parallel-item {display: flex;flex-direction: column;z-index: 1;position: relative;background-color: white;}#sk-container-id-2 div.sk-parallel-item:first-child::after {align-self: flex-end;width: 50%;}#sk-container-id-2 div.sk-parallel-item:last-child::after {align-self: flex-start;width: 50%;}#sk-container-id-2 div.sk-parallel-item:only-child::after {width: 0;}#sk-container-id-2 div.sk-dashed-wrapped {border: 1px dashed gray;margin: 0 0.4em 0.5em 0.4em;box-sizing: border-box;padding-bottom: 0.4em;background-color: white;}#sk-container-id-2 div.sk-label label {font-family: monospace;font-weight: bold;display: inline-block;line-height: 1.2em;}#sk-container-id-2 div.sk-label-container {text-align: center;}#sk-container-id-2 div.sk-container {/* jupyter's `normalize.less` sets `[hidden] { display: none; }` but bootstrap.min.css set `[hidden] { display: none !important; }` so we also need the `!important` here to be able to override the default hidden behavior on the sphinx rendered scikit-learn.org. See: https://github.com/scikit-learn/scikit-learn/issues/21755 */display: inline-block !important;position: relative;}#sk-container-id-2 div.sk-text-repr-fallback {display: none;}</style><div id=\"sk-container-id-2\" class=\"sk-top-container\"><div class=\"sk-text-repr-fallback\"><pre>DecisionTreeClassifier()</pre><b>In a Jupyter environment, please rerun this cell to show the HTML representation or trust the notebook. <br />On GitHub, the HTML representation is unable to render, please try loading this page with nbviewer.org.</b></div><div class=\"sk-container\" hidden><div class=\"sk-item\"><div class=\"sk-estimator sk-toggleable\"><input class=\"sk-toggleable__control sk-hidden--visually\" id=\"sk-estimator-id-2\" type=\"checkbox\" checked><label for=\"sk-estimator-id-2\" class=\"sk-toggleable__label sk-toggleable__label-arrow\">DecisionTreeClassifier</label><div class=\"sk-toggleable__content\"><pre>DecisionTreeClassifier()</pre></div></div></div></div></div>"
      ],
      "text/plain": [
       "DecisionTreeClassifier()"
      ]
     },
     "execution_count": 48,
     "metadata": {},
     "output_type": "execute_result"
    }
   ],
   "source": [
    "# Train the model using the training sets\n",
    "dt.fit(X_train, y_train)"
   ]
  },
  {
   "cell_type": "code",
   "execution_count": 49,
   "metadata": {},
   "outputs": [],
   "source": [
    "# Make predictions using the testing set\n",
    "y_pred = dt.predict(X_test)"
   ]
  },
  {
   "cell_type": "code",
   "execution_count": 50,
   "metadata": {},
   "outputs": [
    {
     "name": "stdout",
     "output_type": "stream",
     "text": [
      "Accuracy: 0.8098947427199374\n",
      "Confusion Matrix:\n",
      "[[19064  3371]\n",
      " [ 3438  9944]]\n",
      "Classification Report:\n",
      "              precision    recall  f1-score   support\n",
      "\n",
      "           0       0.85      0.85      0.85     22435\n",
      "           1       0.75      0.74      0.74     13382\n",
      "\n",
      "    accuracy                           0.81     35817\n",
      "   macro avg       0.80      0.80      0.80     35817\n",
      "weighted avg       0.81      0.81      0.81     35817\n",
      "\n"
     ]
    }
   ],
   "source": [
    "# Evaluate the model\n",
    "print(\"Accuracy:\", accuracy_score(y_test, y_pred))\n",
    "print(\"Confusion Matrix:\")\n",
    "print(confusion_matrix(y_test, y_pred))\n",
    "print(\"Classification Report:\")\n",
    "print(classification_report(y_test, y_pred))"
   ]
  },
  {
   "cell_type": "code",
   "execution_count": 51,
   "metadata": {},
   "outputs": [
    {
     "name": "stdout",
     "output_type": "stream",
     "text": [
      "Feature Importances:  [0.03460592 0.0281493  0.09925989 0.03884458 0.2448898  0.03723599\n",
      " 0.03998661 0.13860196 0.02960338 0.01300119 0.00194907 0.00368931\n",
      " 0.25213851 0.03804448]\n",
      "Features:  Index(['arrival_date_month', 'meal', 'country', 'distribution_channel',\n",
      "       'deposit_type', 'customer_type', 'arrival_date_year',\n",
      "       'arrival_date_week_number', 'adults', 'children', 'babies',\n",
      "       'days_in_waiting_list', 'adr', 'total_of_special_requests'],\n",
      "      dtype='object')\n"
     ]
    }
   ],
   "source": [
    "# How do I know which features are important in the Decision Tree model?\n",
    "# Print out the feature importances\n",
    "print(\"Feature Importances: \", dt.feature_importances_)\n",
    "print(\"Features: \", X_train.columns)"
   ]
  },
  {
   "cell_type": "code",
   "execution_count": 52,
   "metadata": {},
   "outputs": [
    {
     "data": {
      "image/png": "[encoded data removed]",
      "text/plain": [
       "<Figure size 1000x800 with 1 Axes>"
      ]
     },
     "metadata": {},
     "output_type": "display_data"
    }
   ],
   "source": [
    "# Make an explanatory plot of the feature importances\n",
    "plt.figure(figsize=(10, 8))\n",
    "plt.bar(X_train.columns, dt.feature_importances_)\n",
    "plt.xticks(rotation=90)\n",
    "plt.xlabel('Features')\n",
    "plt.ylabel('Feature Importance')\n",
    "plt.title('Feature Importances of the Decision Tree Model')\n",
    "plt.show()"
   ]
  },
  {
   "cell_type": "markdown",
   "metadata": {},
   "source": [
    "High feature importance does not necessarily mean that the feature is important for prediction.\n",
    "\n",
    "It only means that the feature is important for the Decision Tree model to split the data.\n",
    "\n",
    "For example, if a feature has a high feature importance, but it is not important for prediction,\n",
    "then we can remove the feature from the model without affecting the performance of the model.\n",
    "\n",
    "In our case, we can remove the 'arrival_date_year' feature from the model without affecting the performance of the model."
   ]
  },
  {
   "cell_type": "code",
   "execution_count": 53,
   "metadata": {},
   "outputs": [
    {
     "name": "stdout",
     "output_type": "stream",
     "text": [
      "True Negatives:  19064\n",
      "False Positives:  3371\n",
      "False Negatives:  3438\n",
      "True Positives:  9944\n"
     ]
    }
   ],
   "source": [
    "# Is our decision tree better than our logistic regression?\n",
    "# Print out the TP, FP, TN, FN values from the confusion matrix\n",
    "tn, fp, fn, tp = confusion_matrix(y_test, y_pred).ravel()\n",
    "print(\"True Negatives: \", tn)\n",
    "print(\"False Positives: \", fp)\n",
    "print(\"False Negatives: \", fn)\n",
    "print(\"True Positives: \", tp)\n"
   ]
  },
  {
   "cell_type": "code",
   "execution_count": 54,
   "metadata": {},
   "outputs": [
    {
     "name": "stdout",
     "output_type": "stream",
     "text": [
      "Accuracy:  0.8098947427199374\n",
      "Precision:  0.7468268869695832\n",
      "Recall:  0.7430877297862801\n",
      "Sensitivity:  0.7430877297862801\n",
      "F1 Score:  0.7449526163988462\n"
     ]
    }
   ],
   "source": [
    "# the accuracy of the model\n",
    "accuracy = (tp + tn) / (tp + tn + fp + fn)\n",
    "print(\"Accuracy: \", accuracy)\n",
    "# the precision of the model\n",
    "precision = tp / (tp + fp)\n",
    "print(\"Precision: \", precision)\n",
    "# the recall of the model\n",
    "recall = tp / (tp + fn)\n",
    "print(\"Recall: \", recall)\n",
    "# the sensitivity of the model\n",
    "sensitivity = tp / (tp + fn)\n",
    "print(\"Sensitivity: \", sensitivity)\n",
    "# the F1 score of the model\n",
    "f1_score = 2 * precision * recall / (precision + recall)\n",
    "print(\"F1 Score: \", f1_score)"
   ]
  },
  {
   "cell_type": "code",
   "execution_count": 55,
   "metadata": {},
   "outputs": [],
   "source": [
    "# Does this mean that our decision tree is better than our logistic regression?\n",
    "# Plot the ROC curve and calculate the AUC\n",
    "from sklearn.metrics import roc_curve, roc_auc_score"
   ]
  },
  {
   "cell_type": "code",
   "execution_count": 56,
   "metadata": {},
   "outputs": [],
   "source": [
    "# Compute predicted probabilities: y_pred_prob\n",
    "y_pred_prob = dt.predict_proba(X_test)[:,1]"
   ]
  },
  {
   "cell_type": "code",
   "execution_count": 57,
   "metadata": {},
   "outputs": [],
   "source": [
    "# Generate ROC curve values: fpr, tpr, thresholds\n",
    "fpr, tpr, thresholds = roc_curve(y_test, y_pred_prob)"
   ]
  },
  {
   "cell_type": "code",
   "execution_count": 58,
   "metadata": {},
   "outputs": [
    {
     "data": {
      "image/png": "[encoded data removed]",
      "text/plain": [
       "<Figure size 1000x800 with 1 Axes>"
      ]
     },
     "metadata": {},
     "output_type": "display_data"
    }
   ],
   "source": [
    "# Plot ROC curve\n",
    "plt.figure(figsize=(10, 8))\n",
    "plt.plot([0, 1], [0, 1], 'k--')\n",
    "plt.plot(fpr, tpr)\n",
    "plt.xlabel('False Positive Rate')\n",
    "plt.ylabel('True Positive Rate')\n",
    "plt.title('ROC Curve')\n",
    "plt.show()"
   ]
  },
  {
   "cell_type": "code",
   "execution_count": 59,
   "metadata": {},
   "outputs": [
    {
     "name": "stdout",
     "output_type": "stream",
     "text": [
      "AUC:  0.8032960877330838\n"
     ]
    }
   ],
   "source": [
    "# Compute and print AUC score\n",
    "print(\"AUC: \", roc_auc_score(y_test, y_pred_prob))"
   ]
  },
  {
   "cell_type": "code",
   "execution_count": 60,
   "metadata": {},
   "outputs": [],
   "source": [
    "# Using hyperparameter tuning and cross-validation techniques to improve the decision tree model we built above\n",
    "from sklearn.model_selection import GridSearchCV"
   ]
  },
  {
   "cell_type": "code",
   "execution_count": 61,
   "metadata": {},
   "outputs": [],
   "source": [
    "# Create a Decision Tree object\n",
    "dt = DecisionTreeClassifier()\n",
    "# Create a dictionary of hyperparameters to search\n",
    "hyperparameters = {'criterion': ['gini', 'entropy'],\n",
    "                        'max_depth': [2, 3, 4, 5, 6, 7, 8, 9, 10],\n",
    "                        'min_samples_split': [2, 3, 4, 5, 6, 7, 8, 9, 10]}\n",
    "# Create grid search\n",
    "gridsearch = GridSearchCV(dt, hyperparameters, cv=5, verbose=0)"
   ]
  },
  {
   "cell_type": "code",
   "execution_count": 62,
   "metadata": {},
   "outputs": [
    {
     "name": "stdout",
     "output_type": "stream",
     "text": [
      "Best Criterion: gini\n",
      "Best max_depth: 10\n",
      "Best min_samples_split: 4\n"
     ]
    }
   ],
   "source": [
    "# Fit grid search\n",
    "best_model = gridsearch.fit(X_train, y_train)\n",
    "# View best hyperparameters\n",
    "print('Best Criterion:', best_model.best_estimator_.get_params()['criterion'])\n",
    "print('Best max_depth:', best_model.best_estimator_.get_params()['max_depth'])\n",
    "print('Best min_samples_split:', best_model.best_estimator_.get_params()['min_samples_split'])"
   ]
  },
  {
   "cell_type": "code",
   "execution_count": 63,
   "metadata": {},
   "outputs": [
    {
     "name": "stdout",
     "output_type": "stream",
     "text": [
      "Accuracy: 0.8011837954044169\n",
      "Confusion Matrix:\n",
      "[[19961  2474]\n",
      " [ 4647  8735]]\n",
      "Classification Report:\n",
      "              precision    recall  f1-score   support\n",
      "\n",
      "           0       0.81      0.89      0.85     22435\n",
      "           1       0.78      0.65      0.71     13382\n",
      "\n",
      "    accuracy                           0.80     35817\n",
      "   macro avg       0.80      0.77      0.78     35817\n",
      "weighted avg       0.80      0.80      0.80     35817\n",
      "\n",
      "True Negatives:  19961\n",
      "False Positives:  2474\n",
      "False Negatives:  4647\n",
      "True Positives:  8735\n",
      "Accuracy:  0.8011837954044169\n",
      "Precision:  0.779284503523954\n",
      "Recall:  0.6527424899118218\n",
      "Sensitivity:  0.6527424899118218\n",
      "F1 Score:  0.7104225123012484\n"
     ]
    }
   ],
   "source": [
    "# Make predictions using the testing set\n",
    "y_pred = best_model.predict(X_test)\n",
    "# Evaluate the model\n",
    "print(\"Accuracy:\", accuracy_score(y_test, y_pred))\n",
    "print(\"Confusion Matrix:\")\n",
    "print(confusion_matrix(y_test, y_pred))\n",
    "print(\"Classification Report:\")\n",
    "print(classification_report(y_test, y_pred))\n",
    "# Print out the TP, FP, TN, FN values from the confusion matrix\n",
    "tn, fp, fn, tp = confusion_matrix(y_test, y_pred).ravel()\n",
    "print(\"True Negatives: \", tn)\n",
    "print(\"False Positives: \", fp)\n",
    "print(\"False Negatives: \", fn)\n",
    "print(\"True Positives: \", tp)\n",
    "# the accuracy of the model\n",
    "accuracy = (tp + tn) / (tp + tn + fp + fn)\n",
    "print(\"Accuracy: \", accuracy)\n",
    "# the precision of the model\n",
    "precision = tp / (tp + fp)\n",
    "print(\"Precision: \", precision)\n",
    "# the recall of the model\n",
    "recall = tp / (tp + fn)\n",
    "print(\"Recall: \", recall)\n",
    "# the sensitivity of the model\n",
    "sensitivity = tp / (tp + fn)\n",
    "print(\"Sensitivity: \", sensitivity)\n",
    "# the F1 score of the model\n",
    "f1_score = 2 * precision * recall / (precision + recall)\n",
    "print(\"F1 Score: \", f1_score)"
   ]
  },
  {
   "cell_type": "code",
   "execution_count": 64,
   "metadata": {},
   "outputs": [
    {
     "data": {
      "image/png": "[encoded data removed]",
      "text/plain": [
       "<Figure size 1000x800 with 1 Axes>"
      ]
     },
     "metadata": {},
     "output_type": "display_data"
    },
    {
     "name": "stdout",
     "output_type": "stream",
     "text": [
      "AUC:  0.8721812814695049\n"
     ]
    }
   ],
   "source": [
    "# Is this decision tree better than the previous one?\n",
    "# Plot the ROC curve and calculate the AUC\n",
    "from sklearn.metrics import roc_curve, roc_auc_score\n",
    "# Compute predicted probabilities: y_pred_prob\n",
    "y_pred_prob = best_model.predict_proba(X_test)[:,1]\n",
    "# Generate ROC curve values: fpr, tpr, thresholds\n",
    "fpr, tpr, thresholds = roc_curve(y_test, y_pred_prob)\n",
    "# Plot ROC curve\n",
    "plt.figure(figsize=(10, 8))\n",
    "plt.plot([0, 1], [0, 1], 'k--')\n",
    "plt.plot(fpr, tpr)\n",
    "plt.xlabel('False Positive Rate')\n",
    "plt.ylabel('True Positive Rate')\n",
    "plt.title('ROC Curve')\n",
    "plt.show()\n",
    "# Compute and print AUC score\n",
    "print(\"AUC: \", roc_auc_score(y_test, y_pred_prob))"
   ]
  },
  {
   "cell_type": "markdown",
   "metadata": {},
   "source": [
    "After Using hyperparameter tuning and cross-validation techniques, we can see that the ROC curve performs better, and the AUC score improves from 0.80 to 0.87.\n",
    "\n",
    "In predicting the cancellation of a hotel booking, a \"positive example\" may indicate that the booking will be canceled, while a \"negative example\" indicates that the booking will not be canceled. Our model generates a prediction score for each booking that indicates the likelihood that the booking will be canceled.\n",
    "\n",
    "The ROC curve here depicts how the proportion of true instances (actual cancellations that are predicted to be canceled) and false positive instances (actual non-cancellations that are predicted to be canceled) identified by the model changes as we change the threshold at which the model predicts that the booking will be canceled. Ideally, we would like the model to maximize the true cases while minimizing the false positive cases, so that the model's performance on the ROC curve would be closer to the upper left corner.\n",
    "\n",
    "The AUC score here represents the area under the ROC curve, that is, the ability of the model to correctly predict whether a reservation will be canceled or not for all possible thresholds. the higher the AUC score, the better the predictive performance of the model. the AUC score ranges from 0.5 (which is equivalent to a random guess) to 1 (which is a perfect prediction).\n",
    "\n",
    "Our AUC score improves from 0.80 to 0.87. meaning that our model's performance in predicting whether a hotel reservation will be canceled or not is improved. The ability of the model to correctly distinguish between a booking being canceled and not canceled improves in all possible scenarios where the threshold changes.\n",
    "\n"
   ]
  },
  {
   "cell_type": "markdown",
   "metadata": {},
   "source": [
    "-----------------"
   ]
  },
  {
   "cell_type": "markdown",
   "metadata": {},
   "source": [
    "#### Key insights from the Decision Tree Model:\n",
    "\n",
    "1. Accuracy: 0.801 means that the model can correctly predict whether a reservation will be canceled about 80.1% of the time. Accuracy is a good place to start in evaluating a model, but is not fully representative of the model's performance, especially if the data is unbalanced.\n",
    "\n",
    "2. Precision: 0.779 means that about 77.9% of all cases predicted by the model as \"canceled booking\" were actually \"canceled bookings\". This is a pretty good precision rate, and indicates that the model is highly reliable in predicting cancellations.\n",
    "\n",
    "3. Recall/Sensitivity: 0.653 means that the model correctly predicted 65.3% of all actual \"canceled reservations\". This recall indicates that although the model may miss some actual cancellations in some cases, it is still able to capture most of them.\n",
    "\n",
    "4. F1 Score (F1 value): The F1 value of 0.710 is the reconciled average of the precision and recall rates to find a balance between the two. an F1 value of 0.71 indicates that the model has achieved a relatively good balance between precision and recall.\n",
    "\n",
    "Overall, the performance of this decision tree model is quite good with high accuracy and reliability. However, we can still make further improvements to increase the recall of the model in order to capture more actual canceled bookings.\n",
    "\n",
    "#### It's worth pointing out:\n",
    "A prescision of 0.779 means that about 77.9% of all bookings predicted by the model as \"canceled\" were actually canceled. This is a very high precision rate and shows that the model is very reliable in predicting canceled bookings.\n",
    "\n",
    "In other words, if our model predicts that a reservation will be canceled, there is about a 78% probability that the reservation will actually be canceled. This is very useful for hotel managers as they can rely on this model to predict and manage booking cancellations to manage resources and optimize operations more efficiently."
   ]
  },
  {
   "cell_type": "markdown",
   "metadata": {},
   "source": [
    "--------------"
   ]
  },
  {
   "cell_type": "markdown",
   "metadata": {},
   "source": [
    "#### Compare Logistic regression with Decision Tree\n",
    "\n",
    "Logistic regression model:\n",
    "- Accuracy: 0.75\n",
    "- Precision: 0.83\n",
    "- Recall: 0.43\n",
    "- F1 Score: 0.56\n",
    "\n",
    "Decision Tree Model:\n",
    "- Accuracy: 0.801\n",
    "- Precision: 0.779\n",
    "- Recall: 0.653\n",
    "- F1 Score: 0.710\n",
    "\n",
    "In terms of accuracy, the decision tree model (0.801) performs better than the logistic regression model (0.75).\n",
    "\n",
    "In terms of prescision, the Logistic regression model (0.83) performs slightly better than the decision tree model (0.779).\n",
    "\n",
    "In terms of recall, the decision tree model (0.653) performs better than the logistic regression model (0.43).\n",
    "\n",
    "In terms of F1 value, the decision tree model (0.710) also performs better than the Logistic regression model (0.56).\n",
    "\n",
    "##### In terms of accuracy, the logistic regression model performed only slightly better (0.83) than the decision tree model (0.779). In other words, the logistic regression model has a slightly higher probability of correctly predicting a situation where the prediction is a \"canceled reservation\" (i.e., a positive case).\n",
    "\n",
    "##### The Decision Tree Model outperforms the Logistic Regression Model (0.43) completely in the assessment of recall (0.653). In other words, the decision tree model correctly identifies a higher percentage of all real \"canceled reservations\" (i.e., positive cases).\n",
    "\n",
    "##### Thus, overall, the decision tree model seems to perform better than the Logistic regression model in this case because of its higher accuracy, recall and F1 value. \n",
    "\n",
    "However, which model is more suitable also depends on your specific business needs. For example, if you're more concerned about avoiding incorrectly predicting canceled bookings (i.e., you'd prefer to increase the precision rate), then Logistic Regression might be better. And if you want to capture more actual canceled bookings (i.e., you'd prefer to improve recall), then Decision Tree might be better."
   ]
  },
  {
   "cell_type": "markdown",
   "metadata": {},
   "source": [
    "--------------"
   ]
  },
  {
   "cell_type": "markdown",
   "metadata": {},
   "source": [
    "##### 3. Support Vector Machines"
   ]
  },
  {
   "cell_type": "code",
   "execution_count": 65,
   "metadata": {},
   "outputs": [
    {
     "data": {
      "text/html": [
       "<style>#sk-container-id-3 {color: black;background-color: white;}#sk-container-id-3 pre{padding: 0;}#sk-container-id-3 div.sk-toggleable {background-color: white;}#sk-container-id-3 label.sk-toggleable__label {cursor: pointer;display: block;width: 100%;margin-bottom: 0;padding: 0.3em;box-sizing: border-box;text-align: center;}#sk-container-id-3 label.sk-toggleable__label-arrow:before {content: \"▸\";float: left;margin-right: 0.25em;color: #696969;}#sk-container-id-3 label.sk-toggleable__label-arrow:hover:before {color: black;}#sk-container-id-3 div.sk-estimator:hover label.sk-toggleable__label-arrow:before {color: black;}#sk-container-id-3 div.sk-toggleable__content {max-height: 0;max-width: 0;overflow: hidden;text-align: left;background-color: #f0f8ff;}#sk-container-id-3 div.sk-toggleable__content pre {margin: 0.2em;color: black;border-radius: 0.25em;background-color: #f0f8ff;}#sk-container-id-3 input.sk-toggleable__control:checked~div.sk-toggleable__content {max-height: 200px;max-width: 100%;overflow: auto;}#sk-container-id-3 input.sk-toggleable__control:checked~label.sk-toggleable__label-arrow:before {content: \"▾\";}#sk-container-id-3 div.sk-estimator input.sk-toggleable__control:checked~label.sk-toggleable__label {background-color: #d4ebff;}#sk-container-id-3 div.sk-label input.sk-toggleable__control:checked~label.sk-toggleable__label {background-color: #d4ebff;}#sk-container-id-3 input.sk-hidden--visually {border: 0;clip: rect(1px 1px 1px 1px);clip: rect(1px, 1px, 1px, 1px);height: 1px;margin: -1px;overflow: hidden;padding: 0;position: absolute;width: 1px;}#sk-container-id-3 div.sk-estimator {font-family: monospace;background-color: #f0f8ff;border: 1px dotted black;border-radius: 0.25em;box-sizing: border-box;margin-bottom: 0.5em;}#sk-container-id-3 div.sk-estimator:hover {background-color: #d4ebff;}#sk-container-id-3 div.sk-parallel-item::after {content: \"\";width: 100%;border-bottom: 1px solid gray;flex-grow: 1;}#sk-container-id-3 div.sk-label:hover label.sk-toggleable__label {background-color: #d4ebff;}#sk-container-id-3 div.sk-serial::before {content: \"\";position: absolute;border-left: 1px solid gray;box-sizing: border-box;top: 0;bottom: 0;left: 50%;z-index: 0;}#sk-container-id-3 div.sk-serial {display: flex;flex-direction: column;align-items: center;background-color: white;padding-right: 0.2em;padding-left: 0.2em;position: relative;}#sk-container-id-3 div.sk-item {position: relative;z-index: 1;}#sk-container-id-3 div.sk-parallel {display: flex;align-items: stretch;justify-content: center;background-color: white;position: relative;}#sk-container-id-3 div.sk-item::before, #sk-container-id-3 div.sk-parallel-item::before {content: \"\";position: absolute;border-left: 1px solid gray;box-sizing: border-box;top: 0;bottom: 0;left: 50%;z-index: -1;}#sk-container-id-3 div.sk-parallel-item {display: flex;flex-direction: column;z-index: 1;position: relative;background-color: white;}#sk-container-id-3 div.sk-parallel-item:first-child::after {align-self: flex-end;width: 50%;}#sk-container-id-3 div.sk-parallel-item:last-child::after {align-self: flex-start;width: 50%;}#sk-container-id-3 div.sk-parallel-item:only-child::after {width: 0;}#sk-container-id-3 div.sk-dashed-wrapped {border: 1px dashed gray;margin: 0 0.4em 0.5em 0.4em;box-sizing: border-box;padding-bottom: 0.4em;background-color: white;}#sk-container-id-3 div.sk-label label {font-family: monospace;font-weight: bold;display: inline-block;line-height: 1.2em;}#sk-container-id-3 div.sk-label-container {text-align: center;}#sk-container-id-3 div.sk-container {/* jupyter's `normalize.less` sets `[hidden] { display: none; }` but bootstrap.min.css set `[hidden] { display: none !important; }` so we also need the `!important` here to be able to override the default hidden behavior on the sphinx rendered scikit-learn.org. See: https://github.com/scikit-learn/scikit-learn/issues/21755 */display: inline-block !important;position: relative;}#sk-container-id-3 div.sk-text-repr-fallback {display: none;}</style><div id=\"sk-container-id-3\" class=\"sk-top-container\"><div class=\"sk-text-repr-fallback\"><pre>SVC()</pre><b>In a Jupyter environment, please rerun this cell to show the HTML representation or trust the notebook. <br />On GitHub, the HTML representation is unable to render, please try loading this page with nbviewer.org.</b></div><div class=\"sk-container\" hidden><div class=\"sk-item\"><div class=\"sk-estimator sk-toggleable\"><input class=\"sk-toggleable__control sk-hidden--visually\" id=\"sk-estimator-id-3\" type=\"checkbox\" checked><label for=\"sk-estimator-id-3\" class=\"sk-toggleable__label sk-toggleable__label-arrow\">SVC</label><div class=\"sk-toggleable__content\"><pre>SVC()</pre></div></div></div></div></div>"
      ],
      "text/plain": [
       "SVC()"
      ]
     },
     "execution_count": 65,
     "metadata": {},
     "output_type": "execute_result"
    }
   ],
   "source": [
    "# Build a support vector machine model to study the relationship between the features and the target variable to predict the cancellation of hotel bookings\n",
    "from sklearn.svm import SVC\n",
    "# Create a SVC object\n",
    "svc = SVC()\n",
    "# Train the model using the training sets\n",
    "svc.fit(X_train, y_train)"
   ]
  },
  {
   "cell_type": "code",
   "execution_count": 66,
   "metadata": {},
   "outputs": [
    {
     "name": "stdout",
     "output_type": "stream",
     "text": [
      "Support vectors of the model:  [[ 4.00000000e+00  0.00000000e+00  1.35000000e+02 ...  2.31200151e+00\n",
      "  -9.86060175e-01  5.40665852e-01]\n",
      " [ 1.00000000e+01  0.00000000e+00  1.35000000e+02 ... -1.31923599e-01\n",
      "  -7.09027630e-01  5.40665852e-01]\n",
      " [ 3.00000000e+00  0.00000000e+00  5.60000000e+01 ... -1.31923599e-01\n",
      "  -1.47838844e-01 -7.20694110e-01]\n",
      " ...\n",
      " [ 1.00000000e+00  0.00000000e+00  1.35000000e+02 ... -1.31923599e-01\n",
      "  -7.88179785e-01 -7.20694110e-01]\n",
      " [ 9.00000000e+00  0.00000000e+00  1.00000000e+02 ... -1.31923599e-01\n",
      "  -9.46484097e-01 -7.20694110e-01]\n",
      " [ 1.00000000e+00  3.00000000e+00  2.90000000e+01 ... -1.31923599e-01\n",
      "  -3.23160869e-01 -7.20694110e-01]]\n",
      "Labels of the support vectors:  [    1     3     4 ... 83558 83563 83565]\n",
      "Number of support vectors for each class:  [25120 25095]\n",
      "Coefficients of the support vector in the decision function:  [[-1. -1. -1. ...  1.  1.  1.]]\n",
      "Intercept of the model:  [-1.38222723]\n",
      "Indices of the support vectors:  [    1     3     4 ... 83558 83563 83565]\n",
      "Number of support vectors:  50215\n"
     ]
    }
   ],
   "source": [
    "# Print out the support vectors of the model with the associated labels\n",
    "print(\"Support vectors of the model: \", svc.support_vectors_)\n",
    "print(\"Labels of the support vectors: \", svc.support_)\n",
    "print(\"Number of support vectors for each class: \", svc.n_support_)\n",
    "print(\"Coefficients of the support vector in the decision function: \", svc.dual_coef_)\n",
    "print(\"Intercept of the model: \", svc.intercept_)\n",
    "print(\"Indices of the support vectors: \", svc.support_)\n",
    "print(\"Number of support vectors: \", len(svc.support_))\n"
   ]
  },
  {
   "cell_type": "code",
   "execution_count": 67,
   "metadata": {},
   "outputs": [
    {
     "name": "stdout",
     "output_type": "stream",
     "text": [
      "Accuracy: 0.7548650082363124\n",
      "Confusion Matrix:\n",
      "[[20550  1885]\n",
      " [ 6895  6487]]\n",
      "Classification Report:\n",
      "              precision    recall  f1-score   support\n",
      "\n",
      "           0       0.75      0.92      0.82     22435\n",
      "           1       0.77      0.48      0.60     13382\n",
      "\n",
      "    accuracy                           0.75     35817\n",
      "   macro avg       0.76      0.70      0.71     35817\n",
      "weighted avg       0.76      0.75      0.74     35817\n",
      "\n",
      "True Negatives:  20550\n",
      "False Positives:  1885\n",
      "False Negatives:  6895\n",
      "True Positives:  6487\n",
      "Accuracy:  0.7548650082363124\n",
      "Precision:  0.7748447204968945\n",
      "Recall:  0.4847556419070393\n",
      "Sensitivity:  0.4847556419070393\n",
      "F1 Score:  0.5963960650914774\n"
     ]
    }
   ],
   "source": [
    "# Make predictions using the testing set\n",
    "y_pred = svc.predict(X_test)\n",
    "# Evaluate the model\n",
    "print(\"Accuracy:\", accuracy_score(y_test, y_pred))\n",
    "print(\"Confusion Matrix:\")\n",
    "print(confusion_matrix(y_test, y_pred))\n",
    "print(\"Classification Report:\")\n",
    "print(classification_report(y_test, y_pred))\n",
    "# Print out the TP, FP, TN, FN values from the confusion matrix\n",
    "tn, fp, fn, tp = confusion_matrix(y_test, y_pred).ravel()\n",
    "print(\"True Negatives: \", tn)\n",
    "print(\"False Positives: \", fp)\n",
    "print(\"False Negatives: \", fn)\n",
    "print(\"True Positives: \", tp)\n",
    "# the accuracy of the model\n",
    "accuracy = (tp + tn) / (tp + tn + fp + fn)\n",
    "print(\"Accuracy: \", accuracy)\n",
    "# the precision of the model\n",
    "precision = tp / (tp + fp)\n",
    "print(\"Precision: \", precision)\n",
    "# the recall of the model\n",
    "recall = tp / (tp + fn)\n",
    "print(\"Recall: \", recall)\n",
    "# the sensitivity of the model\n",
    "sensitivity = tp / (tp + fn)\n",
    "print(\"Sensitivity: \", sensitivity)\n",
    "# the F1 score of the model\n",
    "f1_score = 2 * precision * recall / (precision + recall)\n",
    "print(\"F1 Score: \", f1_score)"
   ]
  },
  {
   "cell_type": "markdown",
   "metadata": {},
   "source": [
    "##### It seems that the accuracy, precision, recall and F1 score of the svm model are not as good as that of the decision tree. The precision is pretty high, however, the sensitivity is low."
   ]
  },
  {
   "cell_type": "markdown",
   "metadata": {},
   "source": [
    "#### 4. K-nearest Neighbors"
   ]
  },
  {
   "cell_type": "code",
   "execution_count": 73,
   "metadata": {},
   "outputs": [],
   "source": [
    "# Build a k-nearest neighbors model to study the relationship between the features and the target variable to predict the cancellation of hotel bookings\n",
    "from sklearn.neighbors import KNeighborsClassifier\n",
    "# Create a KNN object\n",
    "knn = KNeighborsClassifier()\n",
    "# Train the model using the training sets\n",
    "knn.fit(X_train, y_train)\n",
    "# Make predictions using the testing set\n",
    "y_pred = knn.predict(X_test)"
   ]
  },
  {
   "cell_type": "code",
   "execution_count": 75,
   "metadata": {},
   "outputs": [
    {
     "name": "stdout",
     "output_type": "stream",
     "text": [
      "Accuracy: 0.802579780551135\n",
      "Confusion Matrix:\n",
      "[[19381  3054]\n",
      " [ 4017  9365]]\n",
      "Classification Report:\n",
      "              precision    recall  f1-score   support\n",
      "\n",
      "           0       0.83      0.86      0.85     22435\n",
      "           1       0.75      0.70      0.73     13382\n",
      "\n",
      "    accuracy                           0.80     35817\n",
      "   macro avg       0.79      0.78      0.79     35817\n",
      "weighted avg       0.80      0.80      0.80     35817\n",
      "\n",
      "True Negatives:  19381\n",
      "False Positives:  3054\n",
      "False Negatives:  4017\n",
      "True Positives:  9365\n",
      "Accuracy:  0.802579780551135\n",
      "Precision:  0.7540864803929463\n",
      "Recall:  0.699820654610671\n",
      "Sensitivity:  0.699820654610671\n",
      "F1 Score:  0.72594085500562\n"
     ]
    }
   ],
   "source": [
    "# Evaluate the model\n",
    "print(\"Accuracy:\", accuracy_score(y_test, y_pred))\n",
    "print(\"Confusion Matrix:\")\n",
    "print(confusion_matrix(y_test, y_pred))\n",
    "print(\"Classification Report:\")\n",
    "print(classification_report(y_test, y_pred))\n",
    "# Print out the TP, FP, TN, FN values from the confusion matrix\n",
    "tn, fp, fn, tp = confusion_matrix(y_test, y_pred).ravel()\n",
    "print(\"True Negatives: \", tn)\n",
    "print(\"False Positives: \", fp)\n",
    "print(\"False Negatives: \", fn)\n",
    "print(\"True Positives: \", tp)\n",
    "# the accuracy of the model\n",
    "accuracy = (tp + tn) / (tp + tn + fp + fn)\n",
    "print(\"Accuracy: \", accuracy)\n",
    "# the precision of the model\n",
    "precision = tp / (tp + fp)\n",
    "print(\"Precision: \", precision)\n",
    "# the recall of the model\n",
    "recall = tp / (tp + fn)\n",
    "print(\"Recall: \", recall)\n",
    "# the sensitivity of the model\n",
    "sensitivity = tp / (tp + fn)\n",
    "print(\"Sensitivity: \", sensitivity)\n",
    "# the F1 score of the model\n",
    "f1_score = 2 * precision * recall / (precision + recall)\n",
    "print(\"F1 Score: \", f1_score)"
   ]
  },
  {
   "cell_type": "code",
   "execution_count": 76,
   "metadata": {},
   "outputs": [
    {
     "name": "stdout",
     "output_type": "stream",
     "text": [
      "Cross-validation scores:  [0.7930003  0.80161532 0.79539336 0.79705636 0.79615891]\n",
      "Average cross-validation score: 0.80\n"
     ]
    }
   ],
   "source": [
    "# Apply the k-fold cross-validation technique to improve the KNN model we built above\n",
    "from sklearn.model_selection import cross_val_score\n",
    "# Create a KNN object\n",
    "knn = KNeighborsClassifier()\n",
    "# Perform 5-fold cross validation\n",
    "cv_scores = cross_val_score(knn, X_train, y_train, cv=5)\n",
    "# Print out each cv score (accuracy) and average them\n",
    "print(\"Cross-validation scores: \", cv_scores)\n",
    "print(\"Average cross-validation score: {:.2f}\".format(cv_scores.mean()))"
   ]
  },
  {
   "cell_type": "markdown",
   "metadata": {},
   "source": [
    "On the problem of predicting hotel booking cancellations, we evaluated it through five-fold cross-validation. Five-fold cross-validation means that the data is divided into five subsets, and the model is trained on four of these subsets and validated on the remaining one. This process is repeated five times, with each subset having one chance to become a validation set.\n",
    "\n",
    "The five scores 0.7930003, 0.80161532, 0.79539336, 0.79705636, and 0.79615891 correspond to the accuracies of the five cross-validations. The average of these five scores (0.80) is an overall assessment of the model's predictive ability. This average provides a more comprehensive assessment than the accuracy of a single validation because it takes into account the model's performance on different subsets of data.\n",
    "\n",
    "This average cross-validation score (0.80) indicates that the model is approximately 80% accurate on the task of predicting whether a hotel reservation will be canceled. This is a relatively high score, indicating that the model performs well on this task."
   ]
  },
  {
   "cell_type": "markdown",
   "metadata": {},
   "source": [
    "##### Decision: Which model should we use?\n",
    "\n",
    "Since we want to focus on the minimizing the following circumstances:\n",
    "- If we predict that a customer will cancel the booking, but the customer actually does not cancel the booking, then we lose money. (FP)\n",
    "- If we predict that a customer will not cancel the booking, but the customer actually cancels the booking, then we lose the opportunity to sell the room to another customer. (FN)"
   ]
  },
  {
   "cell_type": "markdown",
   "metadata": {},
   "source": [
    "Evaluation metrics for KNN models:\n",
    "\n",
    "- Precision: 0.754\n",
    "- Recall: 0.7\n",
    "- F1 Score: 0.726\n",
    "\n",
    "Evaluation metrics for decision tree model:\n",
    "\n",
    "- Precision: 0.779\n",
    "- Recall: 0.653\n",
    "- F1 Score: 0.710\n",
    "\n",
    "In terms of Precision and F1 Score, the Decision Tree Model performs better, which means it is better in reducing false positives (FP) and false negatives (FN).\n",
    "\n",
    "And in terms of recall, the KNN model performs better, which means it is better at finding all true positive cases (i.e., reducing false negatives).\n",
    "\n",
    "So, if you want to minimize false positives (FP) and false negatives (FN) and balance the two, the decision tree model may be a better choice because it has a higher F1 score.\n",
    "\n",
    "Note: It also depends on which error type you prefer to minimize. If you prefer to reduce false negatives (FN, which are actually \"canceled\" but predicted to be \"not canceled\"), then the KNN model may be better because it has higher recall.\n",
    "\n",
    "##### To summarize, we chose the Decision Trees as our final model."
   ]
  }
 ],
 "metadata": {
  "kernelspec": {
   "display_name": "Python 3",
   "language": "python",
   "name": "python3"
  },
  "language_info": {
   "codemirror_mode": {
    "name": "ipython",
    "version": 3
   },
   "file_extension": ".py",
   "mimetype": "text/x-python",
   "name": "python",
   "nbconvert_exporter": "python",
   "pygments_lexer": "ipython3",
   "version": "3.10.9"
  },
  "orig_nbformat": 4
 },
 "nbformat": 4,
 "nbformat_minor": 2
}
