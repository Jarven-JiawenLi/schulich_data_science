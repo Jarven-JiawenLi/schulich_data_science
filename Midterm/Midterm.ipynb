{
 "cells": [
  {
   "attachments": {},
   "cell_type": "markdown",
   "metadata": {},
   "source": [
    "## Midterm"
   ]
  },
  {
   "attachments": {},
   "cell_type": "markdown",
   "metadata": {},
   "source": [
    "#### Objective: Conduct analysis on the provided data to identify the characteristics of users who check out, and those who don't."
   ]
  },
  {
   "attachments": {},
   "cell_type": "markdown",
   "metadata": {},
   "source": [
    "##### Part one: Data Cleaning & Wrangling"
   ]
  },
  {
   "attachments": {},
   "cell_type": "markdown",
   "metadata": {},
   "source": [
    "How did you prepare your data for analysis? Describe your data cleaning and preparation approaches, and why these were the best choices."
   ]
  },
  {
   "cell_type": "code",
   "execution_count": 1,
   "metadata": {},
   "outputs": [],
   "source": [
    "import numpy as np\n",
    "import pandas as pd\n",
    "import matplotlib.pyplot as plt\n",
    "from scipy import stats"
   ]
  },
  {
   "cell_type": "code",
   "execution_count": 2,
   "metadata": {},
   "outputs": [],
   "source": [
    "dt = pd.read_csv('/Users/jiawenli/Desktop/midterm_data.csv')"
   ]
  },
  {
   "cell_type": "code",
   "execution_count": 3,
   "metadata": {},
   "outputs": [
    {
     "data": {
      "text/html": [
       "<div>\n",
       "<style scoped>\n",
       "    .dataframe tbody tr th:only-of-type {\n",
       "        vertical-align: middle;\n",
       "    }\n",
       "\n",
       "    .dataframe tbody tr th {\n",
       "        vertical-align: top;\n",
       "    }\n",
       "\n",
       "    .dataframe thead th {\n",
       "        text-align: right;\n",
       "    }\n",
       "</style>\n",
       "<table border=\"1\" class=\"dataframe\">\n",
       "  <thead>\n",
       "    <tr style=\"text-align: right;\">\n",
       "      <th></th>\n",
       "      <th>userID</th>\n",
       "      <th>age</th>\n",
       "      <th>sessions</th>\n",
       "      <th>time_spent</th>\n",
       "      <th>pages_visited</th>\n",
       "      <th>cart_items</th>\n",
       "      <th>cart_value</th>\n",
       "      <th>checkout_status</th>\n",
       "      <th>device</th>\n",
       "      <th>location</th>\n",
       "    </tr>\n",
       "  </thead>\n",
       "  <tbody>\n",
       "    <tr>\n",
       "      <th>0</th>\n",
       "      <td>1</td>\n",
       "      <td>62</td>\n",
       "      <td>3</td>\n",
       "      <td>13.295129</td>\n",
       "      <td>2</td>\n",
       "      <td>20</td>\n",
       "      <td>199.21</td>\n",
       "      <td>0</td>\n",
       "      <td>Desktop</td>\n",
       "      <td>Location 1</td>\n",
       "    </tr>\n",
       "    <tr>\n",
       "      <th>1</th>\n",
       "      <td>2</td>\n",
       "      <td>65</td>\n",
       "      <td>2</td>\n",
       "      <td>21.686405</td>\n",
       "      <td>3</td>\n",
       "      <td>21</td>\n",
       "      <td>294.82</td>\n",
       "      <td>0</td>\n",
       "      <td>Desktop</td>\n",
       "      <td>Location 3</td>\n",
       "    </tr>\n",
       "    <tr>\n",
       "      <th>2</th>\n",
       "      <td>3</td>\n",
       "      <td>18</td>\n",
       "      <td>7</td>\n",
       "      <td>17.135220</td>\n",
       "      <td>4</td>\n",
       "      <td>23</td>\n",
       "      <td>240.87</td>\n",
       "      <td>0</td>\n",
       "      <td>Desktop</td>\n",
       "      <td>Location 4</td>\n",
       "    </tr>\n",
       "    <tr>\n",
       "      <th>3</th>\n",
       "      <td>4</td>\n",
       "      <td>21</td>\n",
       "      <td>9</td>\n",
       "      <td>29.589311</td>\n",
       "      <td>8</td>\n",
       "      <td>16</td>\n",
       "      <td>183.78</td>\n",
       "      <td>1</td>\n",
       "      <td>Desktop</td>\n",
       "      <td>Location 2</td>\n",
       "    </tr>\n",
       "    <tr>\n",
       "      <th>4</th>\n",
       "      <td>5</td>\n",
       "      <td>21</td>\n",
       "      <td>3</td>\n",
       "      <td>25.948584</td>\n",
       "      <td>4</td>\n",
       "      <td>10</td>\n",
       "      <td>59.51</td>\n",
       "      <td>1</td>\n",
       "      <td>Tablet</td>\n",
       "      <td>Location 4</td>\n",
       "    </tr>\n",
       "  </tbody>\n",
       "</table>\n",
       "</div>"
      ],
      "text/plain": [
       "   userID  age  sessions  time_spent  pages_visited  cart_items  cart_value  \\\n",
       "0       1   62         3   13.295129              2          20      199.21   \n",
       "1       2   65         2   21.686405              3          21      294.82   \n",
       "2       3   18         7   17.135220              4          23      240.87   \n",
       "3       4   21         9   29.589311              8          16      183.78   \n",
       "4       5   21         3   25.948584              4          10       59.51   \n",
       "\n",
       "   checkout_status   device    location  \n",
       "0                0  Desktop  Location 1  \n",
       "1                0  Desktop  Location 3  \n",
       "2                0  Desktop  Location 4  \n",
       "3                1  Desktop  Location 2  \n",
       "4                1   Tablet  Location 4  "
      ]
     },
     "execution_count": 3,
     "metadata": {},
     "output_type": "execute_result"
    }
   ],
   "source": [
    "dt.head()"
   ]
  },
  {
   "cell_type": "code",
   "execution_count": 9,
   "metadata": {},
   "outputs": [
    {
     "data": {
      "text/plain": [
       "array([   1,    2,    3, ..., 4998, 4999, 5000])"
      ]
     },
     "execution_count": 9,
     "metadata": {},
     "output_type": "execute_result"
    }
   ],
   "source": [
    "dt['userID'].unique()"
   ]
  },
  {
   "cell_type": "code",
   "execution_count": 10,
   "metadata": {},
   "outputs": [
    {
     "name": "stdout",
     "output_type": "stream",
     "text": [
      "<class 'pandas.core.frame.DataFrame'>\n",
      "RangeIndex: 5000 entries, 0 to 4999\n",
      "Data columns (total 10 columns):\n",
      " #   Column           Non-Null Count  Dtype  \n",
      "---  ------           --------------  -----  \n",
      " 0   userID           5000 non-null   int64  \n",
      " 1   age              5000 non-null   int64  \n",
      " 2   sessions         5000 non-null   int64  \n",
      " 3   time_spent       5000 non-null   float64\n",
      " 4   pages_visited    5000 non-null   int64  \n",
      " 5   cart_items       5000 non-null   int64  \n",
      " 6   cart_value       5000 non-null   float64\n",
      " 7   checkout_status  5000 non-null   int64  \n",
      " 8   device           4900 non-null   object \n",
      " 9   location         4970 non-null   object \n",
      "dtypes: float64(2), int64(6), object(2)\n",
      "memory usage: 390.8+ KB\n"
     ]
    }
   ],
   "source": [
    "# Get a general idea of the dataset we have\n",
    "dt.info()"
   ]
  },
  {
   "attachments": {},
   "cell_type": "markdown",
   "metadata": {},
   "source": [
    "1. Drop duplicates: By dropping duplicates, we would avoid doing repetitive work and it also saves meemory."
   ]
  },
  {
   "cell_type": "code",
   "execution_count": 11,
   "metadata": {},
   "outputs": [
    {
     "data": {
      "text/html": [
       "<div>\n",
       "<style scoped>\n",
       "    .dataframe tbody tr th:only-of-type {\n",
       "        vertical-align: middle;\n",
       "    }\n",
       "\n",
       "    .dataframe tbody tr th {\n",
       "        vertical-align: top;\n",
       "    }\n",
       "\n",
       "    .dataframe thead th {\n",
       "        text-align: right;\n",
       "    }\n",
       "</style>\n",
       "<table border=\"1\" class=\"dataframe\">\n",
       "  <thead>\n",
       "    <tr style=\"text-align: right;\">\n",
       "      <th></th>\n",
       "      <th>userID</th>\n",
       "      <th>age</th>\n",
       "      <th>sessions</th>\n",
       "      <th>time_spent</th>\n",
       "      <th>pages_visited</th>\n",
       "      <th>cart_items</th>\n",
       "      <th>cart_value</th>\n",
       "      <th>checkout_status</th>\n",
       "      <th>device</th>\n",
       "      <th>location</th>\n",
       "    </tr>\n",
       "  </thead>\n",
       "  <tbody>\n",
       "    <tr>\n",
       "      <th>0</th>\n",
       "      <td>1</td>\n",
       "      <td>62</td>\n",
       "      <td>3</td>\n",
       "      <td>13.295129</td>\n",
       "      <td>2</td>\n",
       "      <td>20</td>\n",
       "      <td>199.21</td>\n",
       "      <td>0</td>\n",
       "      <td>Desktop</td>\n",
       "      <td>Location 1</td>\n",
       "    </tr>\n",
       "    <tr>\n",
       "      <th>1</th>\n",
       "      <td>2</td>\n",
       "      <td>65</td>\n",
       "      <td>2</td>\n",
       "      <td>21.686405</td>\n",
       "      <td>3</td>\n",
       "      <td>21</td>\n",
       "      <td>294.82</td>\n",
       "      <td>0</td>\n",
       "      <td>Desktop</td>\n",
       "      <td>Location 3</td>\n",
       "    </tr>\n",
       "    <tr>\n",
       "      <th>2</th>\n",
       "      <td>3</td>\n",
       "      <td>18</td>\n",
       "      <td>7</td>\n",
       "      <td>17.135220</td>\n",
       "      <td>4</td>\n",
       "      <td>23</td>\n",
       "      <td>240.87</td>\n",
       "      <td>0</td>\n",
       "      <td>Desktop</td>\n",
       "      <td>Location 4</td>\n",
       "    </tr>\n",
       "    <tr>\n",
       "      <th>3</th>\n",
       "      <td>4</td>\n",
       "      <td>21</td>\n",
       "      <td>9</td>\n",
       "      <td>29.589311</td>\n",
       "      <td>8</td>\n",
       "      <td>16</td>\n",
       "      <td>183.78</td>\n",
       "      <td>1</td>\n",
       "      <td>Desktop</td>\n",
       "      <td>Location 2</td>\n",
       "    </tr>\n",
       "    <tr>\n",
       "      <th>4</th>\n",
       "      <td>5</td>\n",
       "      <td>21</td>\n",
       "      <td>3</td>\n",
       "      <td>25.948584</td>\n",
       "      <td>4</td>\n",
       "      <td>10</td>\n",
       "      <td>59.51</td>\n",
       "      <td>1</td>\n",
       "      <td>Tablet</td>\n",
       "      <td>Location 4</td>\n",
       "    </tr>\n",
       "    <tr>\n",
       "      <th>...</th>\n",
       "      <td>...</td>\n",
       "      <td>...</td>\n",
       "      <td>...</td>\n",
       "      <td>...</td>\n",
       "      <td>...</td>\n",
       "      <td>...</td>\n",
       "      <td>...</td>\n",
       "      <td>...</td>\n",
       "      <td>...</td>\n",
       "      <td>...</td>\n",
       "    </tr>\n",
       "    <tr>\n",
       "      <th>4995</th>\n",
       "      <td>4996</td>\n",
       "      <td>48</td>\n",
       "      <td>8</td>\n",
       "      <td>45.000000</td>\n",
       "      <td>11</td>\n",
       "      <td>25</td>\n",
       "      <td>278.92</td>\n",
       "      <td>0</td>\n",
       "      <td>Tablet</td>\n",
       "      <td>Location 5</td>\n",
       "    </tr>\n",
       "    <tr>\n",
       "      <th>4996</th>\n",
       "      <td>4997</td>\n",
       "      <td>31</td>\n",
       "      <td>4</td>\n",
       "      <td>44.700747</td>\n",
       "      <td>9</td>\n",
       "      <td>12</td>\n",
       "      <td>78.97</td>\n",
       "      <td>0</td>\n",
       "      <td>Tablet</td>\n",
       "      <td>Location 2</td>\n",
       "    </tr>\n",
       "    <tr>\n",
       "      <th>4997</th>\n",
       "      <td>4998</td>\n",
       "      <td>34</td>\n",
       "      <td>5</td>\n",
       "      <td>27.146624</td>\n",
       "      <td>7</td>\n",
       "      <td>19</td>\n",
       "      <td>139.42</td>\n",
       "      <td>1</td>\n",
       "      <td>Desktop</td>\n",
       "      <td>Location 4</td>\n",
       "    </tr>\n",
       "    <tr>\n",
       "      <th>4998</th>\n",
       "      <td>4999</td>\n",
       "      <td>58</td>\n",
       "      <td>1</td>\n",
       "      <td>45.000000</td>\n",
       "      <td>11</td>\n",
       "      <td>24</td>\n",
       "      <td>203.42</td>\n",
       "      <td>0</td>\n",
       "      <td>Desktop</td>\n",
       "      <td>Location 5</td>\n",
       "    </tr>\n",
       "    <tr>\n",
       "      <th>4999</th>\n",
       "      <td>5000</td>\n",
       "      <td>63</td>\n",
       "      <td>2</td>\n",
       "      <td>28.484907</td>\n",
       "      <td>7</td>\n",
       "      <td>10</td>\n",
       "      <td>84.15</td>\n",
       "      <td>1</td>\n",
       "      <td>Tablet</td>\n",
       "      <td>Location 3</td>\n",
       "    </tr>\n",
       "  </tbody>\n",
       "</table>\n",
       "<p>5000 rows × 10 columns</p>\n",
       "</div>"
      ],
      "text/plain": [
       "      userID  age  sessions  time_spent  pages_visited  cart_items  \\\n",
       "0          1   62         3   13.295129              2          20   \n",
       "1          2   65         2   21.686405              3          21   \n",
       "2          3   18         7   17.135220              4          23   \n",
       "3          4   21         9   29.589311              8          16   \n",
       "4          5   21         3   25.948584              4          10   \n",
       "...      ...  ...       ...         ...            ...         ...   \n",
       "4995    4996   48         8   45.000000             11          25   \n",
       "4996    4997   31         4   44.700747              9          12   \n",
       "4997    4998   34         5   27.146624              7          19   \n",
       "4998    4999   58         1   45.000000             11          24   \n",
       "4999    5000   63         2   28.484907              7          10   \n",
       "\n",
       "      cart_value  checkout_status   device    location  \n",
       "0         199.21                0  Desktop  Location 1  \n",
       "1         294.82                0  Desktop  Location 3  \n",
       "2         240.87                0  Desktop  Location 4  \n",
       "3         183.78                1  Desktop  Location 2  \n",
       "4          59.51                1   Tablet  Location 4  \n",
       "...          ...              ...      ...         ...  \n",
       "4995      278.92                0   Tablet  Location 5  \n",
       "4996       78.97                0   Tablet  Location 2  \n",
       "4997      139.42                1  Desktop  Location 4  \n",
       "4998      203.42                0  Desktop  Location 5  \n",
       "4999       84.15                1   Tablet  Location 3  \n",
       "\n",
       "[5000 rows x 10 columns]"
      ]
     },
     "execution_count": 11,
     "metadata": {},
     "output_type": "execute_result"
    }
   ],
   "source": [
    "dt.drop_duplicates()"
   ]
  },
  {
   "attachments": {},
   "cell_type": "markdown",
   "metadata": {},
   "source": [
    "We originally have 5000 entries and after dropping duplicates, we still have 5000 entries, which indicates that there is no duplicates in the dataset. This is great."
   ]
  },
  {
   "attachments": {},
   "cell_type": "markdown",
   "metadata": {},
   "source": [
    "2. Dealing with outliers\n",
    "In our dataset, if there is any outliers, we would like to include them in our dataset since they might be providing any potential insights toward our analysis."
   ]
  },
  {
   "attachments": {},
   "cell_type": "markdown",
   "metadata": {},
   "source": [
    "3. Check for missing values"
   ]
  },
  {
   "cell_type": "code",
   "execution_count": 13,
   "metadata": {},
   "outputs": [
    {
     "data": {
      "text/plain": [
       "userID               0\n",
       "age                  0\n",
       "sessions             0\n",
       "time_spent           0\n",
       "pages_visited        0\n",
       "cart_items           0\n",
       "cart_value           0\n",
       "checkout_status      0\n",
       "device             100\n",
       "location            30\n",
       "dtype: int64"
      ]
     },
     "execution_count": 13,
     "metadata": {},
     "output_type": "execute_result"
    }
   ],
   "source": [
    "dt.isnull().sum()"
   ]
  },
  {
   "attachments": {},
   "cell_type": "markdown",
   "metadata": {},
   "source": [
    "As we can see here, we only have missing values in the device, and location columns.\n",
    "We have 100 missing values in the device column, and 30 missing values in the location column."
   ]
  },
  {
   "attachments": {},
   "cell_type": "markdown",
   "metadata": {},
   "source": [
    "The method I will be using is to impute the missing value for both device and location. I will use the mode to impute the missing value for both columns. The reason for using mode is because mode could represents the preferences of customers in some extent."
   ]
  },
  {
   "cell_type": "code",
   "execution_count": 19,
   "metadata": {},
   "outputs": [
    {
     "data": {
      "text/plain": [
       "array(['Location 1', 'Location 3', 'Location 4', 'Location 2',\n",
       "       'Location 5', nan], dtype=object)"
      ]
     },
     "execution_count": 19,
     "metadata": {},
     "output_type": "execute_result"
    }
   ],
   "source": [
    "# Check for unique value within the location column\n",
    "# Find the location that appears the most\n",
    "dt['location'].unique()"
   ]
  },
  {
   "cell_type": "code",
   "execution_count": 20,
   "metadata": {},
   "outputs": [
    {
     "data": {
      "text/plain": [
       "Location 4    1056\n",
       "Location 3    1014\n",
       "Location 1     979\n",
       "Location 5     971\n",
       "Location 2     950\n",
       "Name: location, dtype: int64"
      ]
     },
     "execution_count": 20,
     "metadata": {},
     "output_type": "execute_result"
    }
   ],
   "source": [
    "dt['location'].value_counts()"
   ]
  },
  {
   "attachments": {},
   "cell_type": "markdown",
   "metadata": {},
   "source": [
    "It appears that 'Location 4' appears the most in the location column with a number of 1056. Then I will fill all of the missing values in location column with the value of 'Location 4'."
   ]
  },
  {
   "cell_type": "code",
   "execution_count": 29,
   "metadata": {},
   "outputs": [],
   "source": [
    "dt['location'].fillna('Location 4', inplace=True)"
   ]
  },
  {
   "cell_type": "code",
   "execution_count": 30,
   "metadata": {},
   "outputs": [
    {
     "data": {
      "text/plain": [
       "array(['Desktop', 'Tablet', 'Mobile'], dtype=object)"
      ]
     },
     "execution_count": 30,
     "metadata": {},
     "output_type": "execute_result"
    }
   ],
   "source": [
    "# Now, let's deal with device column. Similarly, we find out all the unique value in device column\n",
    "# Then, figure out which device appears the most\n",
    "dt['device'].unique()"
   ]
  },
  {
   "cell_type": "code",
   "execution_count": 31,
   "metadata": {},
   "outputs": [
    {
     "data": {
      "text/plain": [
       "Desktop    2638\n",
       "Mobile     1428\n",
       "Tablet      934\n",
       "Name: device, dtype: int64"
      ]
     },
     "execution_count": 31,
     "metadata": {},
     "output_type": "execute_result"
    }
   ],
   "source": [
    "dt['device'].value_counts()"
   ]
  },
  {
   "attachments": {},
   "cell_type": "markdown",
   "metadata": {},
   "source": [
    "It appears that most of users were using Desktops. Then we could impute the missing value using 'Desktop'."
   ]
  },
  {
   "cell_type": "code",
   "execution_count": 32,
   "metadata": {},
   "outputs": [],
   "source": [
    "dt['device'].fillna('Desktop', inplace=True)"
   ]
  },
  {
   "cell_type": "code",
   "execution_count": 33,
   "metadata": {},
   "outputs": [
    {
     "data": {
      "text/plain": [
       "userID             0\n",
       "age                0\n",
       "sessions           0\n",
       "time_spent         0\n",
       "pages_visited      0\n",
       "cart_items         0\n",
       "cart_value         0\n",
       "checkout_status    0\n",
       "device             0\n",
       "location           0\n",
       "dtype: int64"
      ]
     },
     "execution_count": 33,
     "metadata": {},
     "output_type": "execute_result"
    }
   ],
   "source": [
    "# After dealing with missing value, double check and make sure there is no missing value\n",
    "dt.isnull().sum()"
   ]
  },
  {
   "attachments": {},
   "cell_type": "markdown",
   "metadata": {},
   "source": [
    "4. Last step for data cleaning is to make sure all of the columns are having appropriate data types."
   ]
  },
  {
   "cell_type": "code",
   "execution_count": 34,
   "metadata": {},
   "outputs": [
    {
     "name": "stdout",
     "output_type": "stream",
     "text": [
      "<class 'pandas.core.frame.DataFrame'>\n",
      "RangeIndex: 5000 entries, 0 to 4999\n",
      "Data columns (total 10 columns):\n",
      " #   Column           Non-Null Count  Dtype  \n",
      "---  ------           --------------  -----  \n",
      " 0   userID           5000 non-null   int64  \n",
      " 1   age              5000 non-null   int64  \n",
      " 2   sessions         5000 non-null   int64  \n",
      " 3   time_spent       5000 non-null   float64\n",
      " 4   pages_visited    5000 non-null   int64  \n",
      " 5   cart_items       5000 non-null   int64  \n",
      " 6   cart_value       5000 non-null   float64\n",
      " 7   checkout_status  5000 non-null   int64  \n",
      " 8   device           5000 non-null   object \n",
      " 9   location         5000 non-null   object \n",
      "dtypes: float64(2), int64(6), object(2)\n",
      "memory usage: 390.8+ KB\n"
     ]
    }
   ],
   "source": [
    "dt.info()"
   ]
  },
  {
   "attachments": {},
   "cell_type": "markdown",
   "metadata": {},
   "source": [
    "We could perform feature engineering by converting the data type of both device and location from object to category, this could helps us save memory and improve computational efficiency."
   ]
  },
  {
   "cell_type": "code",
   "execution_count": 36,
   "metadata": {},
   "outputs": [
    {
     "name": "stdout",
     "output_type": "stream",
     "text": [
      "<class 'pandas.core.frame.DataFrame'>\n",
      "RangeIndex: 5000 entries, 0 to 4999\n",
      "Data columns (total 10 columns):\n",
      " #   Column           Non-Null Count  Dtype   \n",
      "---  ------           --------------  -----   \n",
      " 0   userID           5000 non-null   int64   \n",
      " 1   age              5000 non-null   int64   \n",
      " 2   sessions         5000 non-null   int64   \n",
      " 3   time_spent       5000 non-null   float64 \n",
      " 4   pages_visited    5000 non-null   int64   \n",
      " 5   cart_items       5000 non-null   int64   \n",
      " 6   cart_value       5000 non-null   float64 \n",
      " 7   checkout_status  5000 non-null   int64   \n",
      " 8   device           5000 non-null   category\n",
      " 9   location         5000 non-null   category\n",
      "dtypes: category(2), float64(2), int64(6)\n",
      "memory usage: 322.7 KB\n"
     ]
    }
   ],
   "source": [
    "dt['location'] = dt['location'].astype('category')\n",
    "dt['device'] = dt['device'].astype('category')\n",
    "dt.info()"
   ]
  },
  {
   "attachments": {},
   "cell_type": "markdown",
   "metadata": {},
   "source": [
    "##### Part two:\n",
    "##### The problem: Understanding the reason why less than 30% users actually check out after they have added items to their cart"
   ]
  },
  {
   "attachments": {},
   "cell_type": "markdown",
   "metadata": {},
   "source": [
    "1. Firstly, we need to make sure that users from differrent locations, with different devices and different age does not draw significant impact on the outcome of checking out or not. For us to perform a meaningful experimental design, we need to ensure users have a similar starting characteristics."
   ]
  },
  {
   "attachments": {},
   "cell_type": "markdown",
   "metadata": {},
   "source": [
    "Perform ANOVA to see if there is a significant diffenrence between all 5 locations and checkout_status. If there is no significant difference, then we should have a high p-value."
   ]
  },
  {
   "cell_type": "code",
   "execution_count": 40,
   "metadata": {},
   "outputs": [
    {
     "name": "stdout",
     "output_type": "stream",
     "text": [
      "ANOVA Test\n",
      "F-statistics: 0.54913\n",
      "P-value: 0.69968\n"
     ]
    }
   ],
   "source": [
    "# Perform ANOVA test to see if all 5 locations would draw significant impact on the checkout_status\n",
    "loc_1 = dt[dt['location'] == 'Location 1']['checkout_status']\n",
    "loc_2 = dt[dt['location'] == 'Location 2']['checkout_status']\n",
    "loc_3 = dt[dt['location'] == 'Location 3']['checkout_status']\n",
    "loc_4 = dt[dt['location'] == 'Location 4']['checkout_status']\n",
    "loc_5 = dt[dt['location'] == 'Location 5']['checkout_status']\n",
    "\n",
    "F_stats, p_value = stats.f_oneway(loc_1, loc_2, loc_3, loc_4, loc_5)\n",
    "\n",
    "print('ANOVA Test')\n",
    "print('F-statistics: {:.5f}'.format(F_stats))\n",
    "print('P-value: {:.5f}'.format(p_value))"
   ]
  },
  {
   "attachments": {},
   "cell_type": "markdown",
   "metadata": {},
   "source": [
    "Based on the p-value of 0.69968, which is high, we fail to reject to our null hypothesis. Thus, there is no significant difference between the mean of checkout_status from different locations."
   ]
  },
  {
   "attachments": {},
   "cell_type": "markdown",
   "metadata": {},
   "source": [
    "Next, we perform ANOVA test to see if there is a significant diffenrence on checkout_status from users with different devices. If there is no significant difference, then we should also have a high p-value."
   ]
  },
  {
   "cell_type": "code",
   "execution_count": 50,
   "metadata": {},
   "outputs": [
    {
     "name": "stdout",
     "output_type": "stream",
     "text": [
      "ANOVA Test\n",
      "F-statistics: 1.66016\n",
      "P-value: 0.19021\n"
     ]
    }
   ],
   "source": [
    "# Perform ANOVA test to see if different devices would draw significant impact on the checkout_status\n",
    "desktop = dt[dt['device'] == 'Desktop']['checkout_status']\n",
    "tablet = dt[dt['device'] == 'Tablet']['checkout_status']\n",
    "mobile = dt[dt['device'] == 'Mobile']['checkout_status']\n",
    "\n",
    "F_stats, p_value = stats.f_oneway(desktop, tablet, mobile)\n",
    "\n",
    "print('ANOVA Test')\n",
    "print('F-statistics: {:.5f}'.format(F_stats))\n",
    "print('P-value: {:.5f}'.format(p_value))"
   ]
  },
  {
   "attachments": {},
   "cell_type": "markdown",
   "metadata": {},
   "source": [
    "The p-value of 0.19021 suggests that there is no significant difference between the mean of checkout_status from users with different devices."
   ]
  },
  {
   "attachments": {},
   "cell_type": "markdown",
   "metadata": {},
   "source": [
    "Next, we could perform feature engineering again to group users into different age segments by adding a new column could age_segment."
   ]
  },
  {
   "cell_type": "code",
   "execution_count": 43,
   "metadata": {},
   "outputs": [
    {
     "data": {
      "text/plain": [
       "count    5000.000000\n",
       "mean       41.538200\n",
       "std        14.042734\n",
       "min        18.000000\n",
       "25%        29.000000\n",
       "50%        42.000000\n",
       "75%        54.000000\n",
       "max        65.000000\n",
       "Name: age, dtype: float64"
      ]
     },
     "execution_count": 43,
     "metadata": {},
     "output_type": "execute_result"
    }
   ],
   "source": [
    "dt['age'].describe()"
   ]
  },
  {
   "attachments": {},
   "cell_type": "markdown",
   "metadata": {},
   "source": [
    "Based on the age insight we generate above, we could filter users by '18-25', '26-40', '41-55', and '56+'"
   ]
  },
  {
   "cell_type": "code",
   "execution_count": 44,
   "metadata": {},
   "outputs": [],
   "source": [
    "def application_func_1(x):\n",
    "    if x >= 18 and x <= 25:\n",
    "        return '18-25'\n",
    "    elif x >= 26 and x <= 40:\n",
    "        return '26-40'\n",
    "    elif x >= 41 and x <= 55:\n",
    "        return '41-55'\n",
    "    else:\n",
    "        return '56+'"
   ]
  },
  {
   "cell_type": "code",
   "execution_count": 47,
   "metadata": {},
   "outputs": [],
   "source": [
    "dt['age_segment'] = dt['age'].apply(application_func_1)\n",
    "dt['age_segment'] = dt['age_segment'].astype('category')"
   ]
  },
  {
   "cell_type": "code",
   "execution_count": 48,
   "metadata": {},
   "outputs": [
    {
     "data": {
      "text/html": [
       "<div>\n",
       "<style scoped>\n",
       "    .dataframe tbody tr th:only-of-type {\n",
       "        vertical-align: middle;\n",
       "    }\n",
       "\n",
       "    .dataframe tbody tr th {\n",
       "        vertical-align: top;\n",
       "    }\n",
       "\n",
       "    .dataframe thead th {\n",
       "        text-align: right;\n",
       "    }\n",
       "</style>\n",
       "<table border=\"1\" class=\"dataframe\">\n",
       "  <thead>\n",
       "    <tr style=\"text-align: right;\">\n",
       "      <th></th>\n",
       "      <th>userID</th>\n",
       "      <th>age</th>\n",
       "      <th>sessions</th>\n",
       "      <th>time_spent</th>\n",
       "      <th>pages_visited</th>\n",
       "      <th>cart_items</th>\n",
       "      <th>cart_value</th>\n",
       "      <th>checkout_status</th>\n",
       "      <th>device</th>\n",
       "      <th>location</th>\n",
       "      <th>age_segment</th>\n",
       "    </tr>\n",
       "  </thead>\n",
       "  <tbody>\n",
       "    <tr>\n",
       "      <th>0</th>\n",
       "      <td>1</td>\n",
       "      <td>62</td>\n",
       "      <td>3</td>\n",
       "      <td>13.295129</td>\n",
       "      <td>2</td>\n",
       "      <td>20</td>\n",
       "      <td>199.21</td>\n",
       "      <td>0</td>\n",
       "      <td>Desktop</td>\n",
       "      <td>Location 1</td>\n",
       "      <td>56+</td>\n",
       "    </tr>\n",
       "    <tr>\n",
       "      <th>1</th>\n",
       "      <td>2</td>\n",
       "      <td>65</td>\n",
       "      <td>2</td>\n",
       "      <td>21.686405</td>\n",
       "      <td>3</td>\n",
       "      <td>21</td>\n",
       "      <td>294.82</td>\n",
       "      <td>0</td>\n",
       "      <td>Desktop</td>\n",
       "      <td>Location 3</td>\n",
       "      <td>56+</td>\n",
       "    </tr>\n",
       "    <tr>\n",
       "      <th>2</th>\n",
       "      <td>3</td>\n",
       "      <td>18</td>\n",
       "      <td>7</td>\n",
       "      <td>17.135220</td>\n",
       "      <td>4</td>\n",
       "      <td>23</td>\n",
       "      <td>240.87</td>\n",
       "      <td>0</td>\n",
       "      <td>Desktop</td>\n",
       "      <td>Location 4</td>\n",
       "      <td>18-25</td>\n",
       "    </tr>\n",
       "    <tr>\n",
       "      <th>3</th>\n",
       "      <td>4</td>\n",
       "      <td>21</td>\n",
       "      <td>9</td>\n",
       "      <td>29.589311</td>\n",
       "      <td>8</td>\n",
       "      <td>16</td>\n",
       "      <td>183.78</td>\n",
       "      <td>1</td>\n",
       "      <td>Desktop</td>\n",
       "      <td>Location 2</td>\n",
       "      <td>18-25</td>\n",
       "    </tr>\n",
       "    <tr>\n",
       "      <th>4</th>\n",
       "      <td>5</td>\n",
       "      <td>21</td>\n",
       "      <td>3</td>\n",
       "      <td>25.948584</td>\n",
       "      <td>4</td>\n",
       "      <td>10</td>\n",
       "      <td>59.51</td>\n",
       "      <td>1</td>\n",
       "      <td>Tablet</td>\n",
       "      <td>Location 4</td>\n",
       "      <td>18-25</td>\n",
       "    </tr>\n",
       "  </tbody>\n",
       "</table>\n",
       "</div>"
      ],
      "text/plain": [
       "   userID  age  sessions  time_spent  pages_visited  cart_items  cart_value  \\\n",
       "0       1   62         3   13.295129              2          20      199.21   \n",
       "1       2   65         2   21.686405              3          21      294.82   \n",
       "2       3   18         7   17.135220              4          23      240.87   \n",
       "3       4   21         9   29.589311              8          16      183.78   \n",
       "4       5   21         3   25.948584              4          10       59.51   \n",
       "\n",
       "   checkout_status   device    location age_segment  \n",
       "0                0  Desktop  Location 1         56+  \n",
       "1                0  Desktop  Location 3         56+  \n",
       "2                0  Desktop  Location 4       18-25  \n",
       "3                1  Desktop  Location 2       18-25  \n",
       "4                1   Tablet  Location 4       18-25  "
      ]
     },
     "execution_count": 48,
     "metadata": {},
     "output_type": "execute_result"
    }
   ],
   "source": [
    "dt.head()"
   ]
  },
  {
   "cell_type": "code",
   "execution_count": 49,
   "metadata": {},
   "outputs": [
    {
     "name": "stdout",
     "output_type": "stream",
     "text": [
      "<class 'pandas.core.frame.DataFrame'>\n",
      "RangeIndex: 5000 entries, 0 to 4999\n",
      "Data columns (total 11 columns):\n",
      " #   Column           Non-Null Count  Dtype   \n",
      "---  ------           --------------  -----   \n",
      " 0   userID           5000 non-null   int64   \n",
      " 1   age              5000 non-null   int64   \n",
      " 2   sessions         5000 non-null   int64   \n",
      " 3   time_spent       5000 non-null   float64 \n",
      " 4   pages_visited    5000 non-null   int64   \n",
      " 5   cart_items       5000 non-null   int64   \n",
      " 6   cart_value       5000 non-null   float64 \n",
      " 7   checkout_status  5000 non-null   int64   \n",
      " 8   device           5000 non-null   category\n",
      " 9   location         5000 non-null   category\n",
      " 10  age_segment      5000 non-null   category\n",
      "dtypes: category(3), float64(2), int64(6)\n",
      "memory usage: 327.8 KB\n"
     ]
    }
   ],
   "source": [
    "dt.info()"
   ]
  },
  {
   "attachments": {},
   "cell_type": "markdown",
   "metadata": {},
   "source": [
    "Now, we could perform ANOVA test to see if there is significant difference between the mean of checkout_status from different age_segments."
   ]
  },
  {
   "cell_type": "code",
   "execution_count": 51,
   "metadata": {},
   "outputs": [
    {
     "name": "stdout",
     "output_type": "stream",
     "text": [
      "ANOVA Test\n",
      "F-statistics: 1.44540\n",
      "P-value: 0.22751\n"
     ]
    }
   ],
   "source": [
    "age_1 = dt[dt['age_segment'] == '18-25']['checkout_status']\n",
    "age_2 = dt[dt['age_segment'] == '26-40']['checkout_status']\n",
    "age_3 = dt[dt['age_segment'] == '41-55']['checkout_status']\n",
    "age_4 = dt[dt['age_segment'] == '56+']['checkout_status']\n",
    "\n",
    "F_stats, p_value = stats.f_oneway(age_1, age_2, age_3, age_4)\n",
    "\n",
    "print('ANOVA Test')\n",
    "print('F-statistics: {:.5f}'.format(F_stats))\n",
    "print('P-value: {:.5f}'.format(p_value))"
   ]
  },
  {
   "attachments": {},
   "cell_type": "markdown",
   "metadata": {},
   "source": [
    "The high p-value of 0.22751 suggests that there is no significant difference between the mean of checkout_status from different groups."
   ]
  },
  {
   "attachments": {},
   "cell_type": "markdown",
   "metadata": {},
   "source": [
    "#### Part three: \n",
    "#### Filter users by checked out and not checked out, then we would have two groups of users. Then, we perform a t-test on time_spent, and cart_values."
   ]
  },
  {
   "cell_type": "code",
   "execution_count": 52,
   "metadata": {},
   "outputs": [],
   "source": [
    "# Filter out two groups: dt_checkout (users who checked out), and dt_not_checkout (users who do not check out)\n",
    "dt_checkout = dt[dt['checkout_status']==1]\n",
    "dt_not_checkout = dt[dt['checkout_status']==0]"
   ]
  },
  {
   "cell_type": "code",
   "execution_count": 58,
   "metadata": {},
   "outputs": [],
   "source": [
    "# Perform t-test on time spent\n",
    "dt_checkout_tp = dt_checkout['time_spent']\n",
    "dt_not_checkout_tp = dt_not_checkout['time_spent']"
   ]
  },
  {
   "cell_type": "code",
   "execution_count": 55,
   "metadata": {},
   "outputs": [
    {
     "name": "stdout",
     "output_type": "stream",
     "text": [
      "T test:\n",
      "T-statistics: 29.36614\n",
      "P-value: 0.00000\n"
     ]
    }
   ],
   "source": [
    "t_stats, p_val = stats.ttest_ind(dt_checkout_tp, dt_not_checkout_tp)\n",
    "\n",
    "print('T test:')\n",
    "print('T-statistics: {:.5f}'.format(t_stats))\n",
    "print('P-value: {:.5f}'.format(p_val))"
   ]
  },
  {
   "attachments": {},
   "cell_type": "markdown",
   "metadata": {},
   "source": [
    "The P-value of 0.000 is very small, which is less than 0.05. This indicates that there is a significant difference on time spent on the website between the users who checkout and not checkout."
   ]
  },
  {
   "attachments": {},
   "cell_type": "markdown",
   "metadata": {},
   "source": [
    "Further question is, which group spends more time on the website? Is it checkout or not checkout?"
   ]
  },
  {
   "cell_type": "code",
   "execution_count": 56,
   "metadata": {},
   "outputs": [
    {
     "data": {
      "text/plain": [
       "count    1362.000000\n",
       "mean       31.317918\n",
       "std         4.183834\n",
       "min        25.000659\n",
       "25%        27.602310\n",
       "50%        30.943031\n",
       "75%        34.567006\n",
       "max        39.966537\n",
       "Name: time_spent, dtype: float64"
      ]
     },
     "execution_count": 56,
     "metadata": {},
     "output_type": "execute_result"
    }
   ],
   "source": [
    "dt_checkout_tp.describe()"
   ]
  },
  {
   "attachments": {},
   "cell_type": "markdown",
   "metadata": {},
   "source": [
    "Average time spent for checkout users is 31 minutes."
   ]
  },
  {
   "cell_type": "code",
   "execution_count": 57,
   "metadata": {},
   "outputs": [
    {
     "data": {
      "text/plain": [
       "count    3638.000000\n",
       "mean       22.852522\n",
       "std        10.325582\n",
       "min         1.000000\n",
       "25%        16.008221\n",
       "50%        21.637722\n",
       "75%        28.422609\n",
       "max        90.000000\n",
       "Name: time_spent, dtype: float64"
      ]
     },
     "execution_count": 57,
     "metadata": {},
     "output_type": "execute_result"
    }
   ],
   "source": [
    "dt_not_checkout_tp.describe()"
   ]
  },
  {
   "attachments": {},
   "cell_type": "markdown",
   "metadata": {},
   "source": [
    "Average time spent for not checkout users is 22 minutes."
   ]
  },
  {
   "attachments": {},
   "cell_type": "markdown",
   "metadata": {},
   "source": [
    "Based on the mean value of time spent from checkout group and not checkout group. We could see that the average time spent from checkout group is higher than that of not checkout users.\n",
    "This means that the more time the users spend on the website, the higher likelihood of checkout ratios."
   ]
  },
  {
   "attachments": {},
   "cell_type": "markdown",
   "metadata": {},
   "source": [
    "Now, let's focus on the cart_values."
   ]
  },
  {
   "cell_type": "code",
   "execution_count": 59,
   "metadata": {},
   "outputs": [],
   "source": [
    "# Perform t-test on cart_values\n",
    "dt_checkout_cv = dt_checkout['cart_value']\n",
    "dt_not_checkout_cv = dt_not_checkout['cart_value']"
   ]
  },
  {
   "cell_type": "code",
   "execution_count": 60,
   "metadata": {},
   "outputs": [
    {
     "name": "stdout",
     "output_type": "stream",
     "text": [
      "T test:\n",
      "T-statistics: -5.44258\n",
      "P-value: 0.00000\n"
     ]
    }
   ],
   "source": [
    "t_stats, p_val = stats.ttest_ind(dt_checkout_cv, dt_not_checkout_cv)\n",
    "\n",
    "print('T test:')\n",
    "print('T-statistics: {:.5f}'.format(t_stats))\n",
    "print('P-value: {:.5f}'.format(p_val))"
   ]
  },
  {
   "attachments": {},
   "cell_type": "markdown",
   "metadata": {},
   "source": [
    "The small P-value pf 0.000 indicates that there is a significant difference between the mean of cart_value from checkout group and not checkout group."
   ]
  },
  {
   "cell_type": "code",
   "execution_count": 61,
   "metadata": {},
   "outputs": [
    {
     "data": {
      "text/plain": [
       "count    1362.000000\n",
       "mean      140.824214\n",
       "std        47.654924\n",
       "min        43.220000\n",
       "25%       103.357500\n",
       "50%       136.290000\n",
       "75%       174.375000\n",
       "max       313.760000\n",
       "Name: cart_value, dtype: float64"
      ]
     },
     "execution_count": 61,
     "metadata": {},
     "output_type": "execute_result"
    }
   ],
   "source": [
    "# Which group has a higher cart_value?\n",
    "dt_checkout_cv.describe()"
   ]
  },
  {
   "attachments": {},
   "cell_type": "markdown",
   "metadata": {},
   "source": [
    "For checkout group:\n",
    "Average cart value is 140 dollars. Highest is 313 dollars. Most of them falls in between 100 and 180."
   ]
  },
  {
   "cell_type": "code",
   "execution_count": 62,
   "metadata": {},
   "outputs": [
    {
     "data": {
      "text/plain": [
       "count    3638.000000\n",
       "mean      152.669915\n",
       "std        74.841744\n",
       "min        20.410000\n",
       "25%        85.607500\n",
       "50%       147.155000\n",
       "75%       209.537500\n",
       "max       427.400000\n",
       "Name: cart_value, dtype: float64"
      ]
     },
     "execution_count": 62,
     "metadata": {},
     "output_type": "execute_result"
    }
   ],
   "source": [
    "dt_not_checkout_cv.describe()"
   ]
  },
  {
   "attachments": {},
   "cell_type": "markdown",
   "metadata": {},
   "source": [
    "For not checkout group\n",
    "Average cart value is 152 dollars. Highest is 427 dollars. Most of the value falls in between 80-210."
   ]
  },
  {
   "attachments": {},
   "cell_type": "markdown",
   "metadata": {},
   "source": [
    "Based on the insight above, the average cart value for not checkout group is more than that of checkout group. Maybe, the high value prevents the users from checking out the items."
   ]
  },
  {
   "attachments": {},
   "cell_type": "markdown",
   "metadata": {},
   "source": [
    "#### Part four: Conclusion and Recommendation"
   ]
  },
  {
   "attachments": {},
   "cell_type": "markdown",
   "metadata": {},
   "source": [
    "#### Conclusion:\n",
    "\n",
    "1. Age, device, and location does not yield significant impact on the checkout status.\n",
    "2. Users spent more time on the website tends to make purchases and actually checked out in the end.\n",
    "3. Users that had a relatively low cart values are likely to check out at the end of their browsing.\n"
   ]
  },
  {
   "attachments": {},
   "cell_type": "markdown",
   "metadata": {},
   "source": [
    "#### Recommendation:\n",
    "\n",
    "1. Firstly, adding new and small features to the website that could appeal and attract more users.\n",
    "For this step, the company could do a beta test. For example, do a (5%) pilot test, launch the new features in just a few time zones for a week.\n",
    "2. After beta testing, gather website traffic information and improve the website or debugging any problems. Then, if everything works well. Do a 50% launch in most areas. \n",
    "3. Repetitively improve and gather user stats. Then, do a 75% launch and incrementally reach 100%.\n",
    "4. For users who has 200+ or 300+ dollars of cart value in their carts, if the users do not check out for two or three weeks, the company could probably give them a 5-10% discounts on their purcahses.\n",
    "This is to ensure customer loyalty and satisfaction."
   ]
  }
 ],
 "metadata": {
  "kernelspec": {
   "display_name": "base",
   "language": "python",
   "name": "python3"
  },
  "language_info": {
   "codemirror_mode": {
    "name": "ipython",
    "version": 3
   },
   "file_extension": ".py",
   "mimetype": "text/x-python",
   "name": "python",
   "nbconvert_exporter": "python",
   "pygments_lexer": "ipython3",
   "version": "3.10.9"
  },
  "orig_nbformat": 4
 },
 "nbformat": 4,
 "nbformat_minor": 2
}
